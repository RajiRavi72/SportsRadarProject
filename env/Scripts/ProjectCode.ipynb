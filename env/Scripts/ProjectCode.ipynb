{
 "cells": [
  {
   "cell_type": "markdown",
   "id": "0fe223d1",
   "metadata": {},
   "source": [
    "Created env for SportRadarProject and Activated it:\n",
    "# python -m venv env\n",
    "# Ativated the Activate.ps1 "
   ]
  },
  {
   "cell_type": "markdown",
   "id": "602b4ce9",
   "metadata": {},
   "source": [
    "Using SportsRadar API to get the required tennis data :\n",
    "# pip install requests"
   ]
  },
  {
   "cell_type": "code",
   "execution_count": null,
   "id": "f3754959",
   "metadata": {},
   "outputs": [],
   "source": [
    "import requests\n",
    "\n",
    "url = \"https://api.sportradar.com/tennis/trial/v3/en/competitions.json?api_key=16wTj59jvrpj3B0FSffrzNPbhar1QCXTaPDmFDuC\"\n",
    "\n",
    "headers = {\"accept\": \"application/json\"}\n",
    "\n",
    "response = requests.get(url, headers=headers)\n",
    "\n",
    "print(response.text)"
   ]
  },
  {
   "cell_type": "markdown",
   "id": "d10ca3e5",
   "metadata": {},
   "source": [
    "Converting the json data to Python Dictionary :"
   ]
  },
  {
   "cell_type": "code",
   "execution_count": 9,
   "id": "8b6c1894",
   "metadata": {},
   "outputs": [],
   "source": [
    "import json\n",
    "data = json.loads(response.text)"
   ]
  },
  {
   "cell_type": "markdown",
   "id": "907f5655",
   "metadata": {},
   "source": [
    "Getting the competitions data and Category data:\n",
    "\n",
    "For parent_id get() method is used, so that if data is not present, then default is None"
   ]
  },
  {
   "cell_type": "code",
   "execution_count": 10,
   "id": "fa3a9434",
   "metadata": {},
   "outputs": [],
   "source": [
    "competition_data = []\n",
    "category_list=[]\n",
    "for i in data['competitions']:\n",
    "  competition_data.append({'comp_id': i['id'],\n",
    "   'comp_name': i['name'],\n",
    "   'parent_id': i.get('parent_id',None),\n",
    "   'type':i['type'],\n",
    "   'gender':i['gender'],\n",
    "   'category_id': i['category']['id']\n",
    "   })\n",
    "for i in data['competitions']:\n",
    "   category_list.append({'category_id': i['category']['id'],\n",
    "                        'category_name': i['category']['name']\n",
    "                        })\n"
   ]
  },
  {
   "cell_type": "markdown",
   "id": "31ffea07",
   "metadata": {},
   "source": [
    "Get the data into dataframes using Pandas\n",
    "# pip install pandas"
   ]
  },
  {
   "cell_type": "code",
   "execution_count": 11,
   "id": "76c682ab",
   "metadata": {},
   "outputs": [],
   "source": [
    "import pandas as pd\n",
    "df_comp = pd.DataFrame(competition_data)\n",
    "df_cat = pd.DataFrame(category_list)"
   ]
  },
  {
   "cell_type": "markdown",
   "id": "c2e0509c",
   "metadata": {},
   "source": [
    "Get the first 5 lines of the dataset"
   ]
  },
  {
   "cell_type": "code",
   "execution_count": 12,
   "id": "5eca53a8",
   "metadata": {},
   "outputs": [
    {
     "data": {
      "text/html": [
       "<div>\n",
       "<style scoped>\n",
       "    .dataframe tbody tr th:only-of-type {\n",
       "        vertical-align: middle;\n",
       "    }\n",
       "\n",
       "    .dataframe tbody tr th {\n",
       "        vertical-align: top;\n",
       "    }\n",
       "\n",
       "    .dataframe thead th {\n",
       "        text-align: right;\n",
       "    }\n",
       "</style>\n",
       "<table border=\"1\" class=\"dataframe\">\n",
       "  <thead>\n",
       "    <tr style=\"text-align: right;\">\n",
       "      <th></th>\n",
       "      <th>comp_id</th>\n",
       "      <th>comp_name</th>\n",
       "      <th>parent_id</th>\n",
       "      <th>type</th>\n",
       "      <th>gender</th>\n",
       "      <th>category_id</th>\n",
       "    </tr>\n",
       "  </thead>\n",
       "  <tbody>\n",
       "    <tr>\n",
       "      <th>0</th>\n",
       "      <td>sr:competition:620</td>\n",
       "      <td>Hopman Cup</td>\n",
       "      <td>None</td>\n",
       "      <td>mixed</td>\n",
       "      <td>mixed</td>\n",
       "      <td>sr:category:181</td>\n",
       "    </tr>\n",
       "    <tr>\n",
       "      <th>1</th>\n",
       "      <td>sr:competition:660</td>\n",
       "      <td>World Team Cup</td>\n",
       "      <td>None</td>\n",
       "      <td>mixed</td>\n",
       "      <td>men</td>\n",
       "      <td>sr:category:3</td>\n",
       "    </tr>\n",
       "    <tr>\n",
       "      <th>2</th>\n",
       "      <td>sr:competition:990</td>\n",
       "      <td>ATP Challenger Tour Finals</td>\n",
       "      <td>sr:competition:6239</td>\n",
       "      <td>singles</td>\n",
       "      <td>men</td>\n",
       "      <td>sr:category:72</td>\n",
       "    </tr>\n",
       "    <tr>\n",
       "      <th>3</th>\n",
       "      <td>sr:competition:1207</td>\n",
       "      <td>Championship International Series</td>\n",
       "      <td>None</td>\n",
       "      <td>singles</td>\n",
       "      <td>women</td>\n",
       "      <td>sr:category:6</td>\n",
       "    </tr>\n",
       "    <tr>\n",
       "      <th>4</th>\n",
       "      <td>sr:competition:2100</td>\n",
       "      <td>Davis Cup</td>\n",
       "      <td>None</td>\n",
       "      <td>mixed</td>\n",
       "      <td>men</td>\n",
       "      <td>sr:category:76</td>\n",
       "    </tr>\n",
       "  </tbody>\n",
       "</table>\n",
       "</div>"
      ],
      "text/plain": [
       "               comp_id                          comp_name  \\\n",
       "0   sr:competition:620                         Hopman Cup   \n",
       "1   sr:competition:660                     World Team Cup   \n",
       "2   sr:competition:990         ATP Challenger Tour Finals   \n",
       "3  sr:competition:1207  Championship International Series   \n",
       "4  sr:competition:2100                          Davis Cup   \n",
       "\n",
       "             parent_id     type gender      category_id  \n",
       "0                 None    mixed  mixed  sr:category:181  \n",
       "1                 None    mixed    men    sr:category:3  \n",
       "2  sr:competition:6239  singles    men   sr:category:72  \n",
       "3                 None  singles  women    sr:category:6  \n",
       "4                 None    mixed    men   sr:category:76  "
      ]
     },
     "execution_count": 12,
     "metadata": {},
     "output_type": "execute_result"
    }
   ],
   "source": [
    "df_comp.head()"
   ]
  },
  {
   "cell_type": "markdown",
   "id": "f1c71a87",
   "metadata": {},
   "source": [
    "To Get the number of rows and column in df_comp dataframe:"
   ]
  },
  {
   "cell_type": "code",
   "execution_count": 13,
   "id": "483e3faf",
   "metadata": {},
   "outputs": [
    {
     "name": "stdout",
     "output_type": "stream",
     "text": [
      "(6016, 6)\n"
     ]
    }
   ],
   "source": [
    "print(df_comp.shape)"
   ]
  },
  {
   "cell_type": "markdown",
   "id": "d323364f",
   "metadata": {},
   "source": [
    "To find if nulls are there in df_comp dataframe:"
   ]
  },
  {
   "cell_type": "code",
   "execution_count": 15,
   "id": "06cf7740",
   "metadata": {},
   "outputs": [
    {
     "name": "stdout",
     "output_type": "stream",
     "text": [
      "comp_id          0\n",
      "comp_name        0\n",
      "parent_id      189\n",
      "type             0\n",
      "gender           0\n",
      "category_id      0\n",
      "dtype: int64\n"
     ]
    }
   ],
   "source": [
    "print(df_comp.isnull().sum())"
   ]
  },
  {
   "cell_type": "markdown",
   "id": "d37d6953",
   "metadata": {},
   "source": [
    "In df_comp there are nulls 180 in parent_id column out of 6007 rows\n",
    "To check if \"sr:competition:\" exists in all the rows of comp_id"
   ]
  },
  {
   "cell_type": "code",
   "execution_count": 16,
   "id": "b07cf8f6",
   "metadata": {},
   "outputs": [
    {
     "name": "stdout",
     "output_type": "stream",
     "text": [
      "True\n"
     ]
    }
   ],
   "source": [
    "contains_in_all = df_comp['comp_id'].str.contains('sr:competition:').all()\n",
    "print (contains_in_all)"
   ]
  },
  {
   "cell_type": "markdown",
   "id": "64e016c1",
   "metadata": {},
   "source": [
    "To Remove the string sr:competition: from all rows of column comp_id :"
   ]
  },
  {
   "cell_type": "code",
   "execution_count": 17,
   "id": "33f16379",
   "metadata": {},
   "outputs": [],
   "source": [
    "df_comp['comp_id'] = df_comp['comp_id'].str.replace('sr:competition:', '', regex=False)"
   ]
  },
  {
   "cell_type": "code",
   "execution_count": 18,
   "id": "c9994a23",
   "metadata": {},
   "outputs": [
    {
     "data": {
      "text/html": [
       "<div>\n",
       "<style scoped>\n",
       "    .dataframe tbody tr th:only-of-type {\n",
       "        vertical-align: middle;\n",
       "    }\n",
       "\n",
       "    .dataframe tbody tr th {\n",
       "        vertical-align: top;\n",
       "    }\n",
       "\n",
       "    .dataframe thead th {\n",
       "        text-align: right;\n",
       "    }\n",
       "</style>\n",
       "<table border=\"1\" class=\"dataframe\">\n",
       "  <thead>\n",
       "    <tr style=\"text-align: right;\">\n",
       "      <th></th>\n",
       "      <th>comp_id</th>\n",
       "      <th>comp_name</th>\n",
       "      <th>parent_id</th>\n",
       "      <th>type</th>\n",
       "      <th>gender</th>\n",
       "      <th>category_id</th>\n",
       "    </tr>\n",
       "  </thead>\n",
       "  <tbody>\n",
       "    <tr>\n",
       "      <th>0</th>\n",
       "      <td>620</td>\n",
       "      <td>Hopman Cup</td>\n",
       "      <td>None</td>\n",
       "      <td>mixed</td>\n",
       "      <td>mixed</td>\n",
       "      <td>sr:category:181</td>\n",
       "    </tr>\n",
       "    <tr>\n",
       "      <th>1</th>\n",
       "      <td>660</td>\n",
       "      <td>World Team Cup</td>\n",
       "      <td>None</td>\n",
       "      <td>mixed</td>\n",
       "      <td>men</td>\n",
       "      <td>sr:category:3</td>\n",
       "    </tr>\n",
       "    <tr>\n",
       "      <th>2</th>\n",
       "      <td>990</td>\n",
       "      <td>ATP Challenger Tour Finals</td>\n",
       "      <td>sr:competition:6239</td>\n",
       "      <td>singles</td>\n",
       "      <td>men</td>\n",
       "      <td>sr:category:72</td>\n",
       "    </tr>\n",
       "    <tr>\n",
       "      <th>3</th>\n",
       "      <td>1207</td>\n",
       "      <td>Championship International Series</td>\n",
       "      <td>None</td>\n",
       "      <td>singles</td>\n",
       "      <td>women</td>\n",
       "      <td>sr:category:6</td>\n",
       "    </tr>\n",
       "    <tr>\n",
       "      <th>4</th>\n",
       "      <td>2100</td>\n",
       "      <td>Davis Cup</td>\n",
       "      <td>None</td>\n",
       "      <td>mixed</td>\n",
       "      <td>men</td>\n",
       "      <td>sr:category:76</td>\n",
       "    </tr>\n",
       "  </tbody>\n",
       "</table>\n",
       "</div>"
      ],
      "text/plain": [
       "  comp_id                          comp_name            parent_id     type  \\\n",
       "0     620                         Hopman Cup                 None    mixed   \n",
       "1     660                     World Team Cup                 None    mixed   \n",
       "2     990         ATP Challenger Tour Finals  sr:competition:6239  singles   \n",
       "3    1207  Championship International Series                 None  singles   \n",
       "4    2100                          Davis Cup                 None    mixed   \n",
       "\n",
       "  gender      category_id  \n",
       "0  mixed  sr:category:181  \n",
       "1    men    sr:category:3  \n",
       "2    men   sr:category:72  \n",
       "3  women    sr:category:6  \n",
       "4    men   sr:category:76  "
      ]
     },
     "execution_count": 18,
     "metadata": {},
     "output_type": "execute_result"
    }
   ],
   "source": [
    "df_comp.head()"
   ]
  },
  {
   "cell_type": "markdown",
   "id": "8571b83b",
   "metadata": {},
   "source": [
    "To check the data types of df_comp dataframe :"
   ]
  },
  {
   "cell_type": "code",
   "execution_count": 19,
   "id": "6f0a81b3",
   "metadata": {},
   "outputs": [
    {
     "name": "stdout",
     "output_type": "stream",
     "text": [
      "comp_id        object\n",
      "comp_name      object\n",
      "parent_id      object\n",
      "type           object\n",
      "gender         object\n",
      "category_id    object\n",
      "dtype: object\n"
     ]
    }
   ],
   "source": [
    "print(df_comp.dtypes)"
   ]
  },
  {
   "cell_type": "code",
   "execution_count": 20,
   "id": "c0790361",
   "metadata": {},
   "outputs": [
    {
     "data": {
      "text/html": [
       "<div>\n",
       "<style scoped>\n",
       "    .dataframe tbody tr th:only-of-type {\n",
       "        vertical-align: middle;\n",
       "    }\n",
       "\n",
       "    .dataframe tbody tr th {\n",
       "        vertical-align: top;\n",
       "    }\n",
       "\n",
       "    .dataframe thead th {\n",
       "        text-align: right;\n",
       "    }\n",
       "</style>\n",
       "<table border=\"1\" class=\"dataframe\">\n",
       "  <thead>\n",
       "    <tr style=\"text-align: right;\">\n",
       "      <th></th>\n",
       "      <th>comp_id</th>\n",
       "      <th>comp_name</th>\n",
       "      <th>parent_id</th>\n",
       "      <th>type</th>\n",
       "      <th>gender</th>\n",
       "      <th>category_id</th>\n",
       "    </tr>\n",
       "  </thead>\n",
       "  <tbody>\n",
       "    <tr>\n",
       "      <th>count</th>\n",
       "      <td>6016</td>\n",
       "      <td>6016</td>\n",
       "      <td>5827</td>\n",
       "      <td>6016</td>\n",
       "      <td>6016</td>\n",
       "      <td>6016</td>\n",
       "    </tr>\n",
       "    <tr>\n",
       "      <th>unique</th>\n",
       "      <td>6016</td>\n",
       "      <td>6016</td>\n",
       "      <td>2891</td>\n",
       "      <td>4</td>\n",
       "      <td>3</td>\n",
       "      <td>18</td>\n",
       "    </tr>\n",
       "    <tr>\n",
       "      <th>top</th>\n",
       "      <td>46734</td>\n",
       "      <td>UTR Bucharest W02</td>\n",
       "      <td>sr:competition:2577</td>\n",
       "      <td>singles</td>\n",
       "      <td>men</td>\n",
       "      <td>sr:category:785</td>\n",
       "    </tr>\n",
       "    <tr>\n",
       "      <th>freq</th>\n",
       "      <td>1</td>\n",
       "      <td>1</td>\n",
       "      <td>5</td>\n",
       "      <td>3080</td>\n",
       "      <td>3441</td>\n",
       "      <td>2198</td>\n",
       "    </tr>\n",
       "  </tbody>\n",
       "</table>\n",
       "</div>"
      ],
      "text/plain": [
       "       comp_id          comp_name            parent_id     type gender  \\\n",
       "count     6016               6016                 5827     6016   6016   \n",
       "unique    6016               6016                 2891        4      3   \n",
       "top      46734  UTR Bucharest W02  sr:competition:2577  singles    men   \n",
       "freq         1                  1                    5     3080   3441   \n",
       "\n",
       "            category_id  \n",
       "count              6016  \n",
       "unique               18  \n",
       "top     sr:category:785  \n",
       "freq               2198  "
      ]
     },
     "execution_count": 20,
     "metadata": {},
     "output_type": "execute_result"
    }
   ],
   "source": [
    "df_comp.describe()"
   ]
  },
  {
   "cell_type": "code",
   "execution_count": 21,
   "id": "d14a7731",
   "metadata": {},
   "outputs": [
    {
     "data": {
      "text/html": [
       "<div>\n",
       "<style scoped>\n",
       "    .dataframe tbody tr th:only-of-type {\n",
       "        vertical-align: middle;\n",
       "    }\n",
       "\n",
       "    .dataframe tbody tr th {\n",
       "        vertical-align: top;\n",
       "    }\n",
       "\n",
       "    .dataframe thead th {\n",
       "        text-align: right;\n",
       "    }\n",
       "</style>\n",
       "<table border=\"1\" class=\"dataframe\">\n",
       "  <thead>\n",
       "    <tr style=\"text-align: right;\">\n",
       "      <th></th>\n",
       "      <th>category_id</th>\n",
       "      <th>category_name</th>\n",
       "    </tr>\n",
       "  </thead>\n",
       "  <tbody>\n",
       "    <tr>\n",
       "      <th>0</th>\n",
       "      <td>sr:category:181</td>\n",
       "      <td>Hopman Cup</td>\n",
       "    </tr>\n",
       "    <tr>\n",
       "      <th>1</th>\n",
       "      <td>sr:category:3</td>\n",
       "      <td>ATP</td>\n",
       "    </tr>\n",
       "    <tr>\n",
       "      <th>2</th>\n",
       "      <td>sr:category:72</td>\n",
       "      <td>Challenger</td>\n",
       "    </tr>\n",
       "    <tr>\n",
       "      <th>3</th>\n",
       "      <td>sr:category:6</td>\n",
       "      <td>WTA</td>\n",
       "    </tr>\n",
       "    <tr>\n",
       "      <th>4</th>\n",
       "      <td>sr:category:76</td>\n",
       "      <td>Davis Cup</td>\n",
       "    </tr>\n",
       "  </tbody>\n",
       "</table>\n",
       "</div>"
      ],
      "text/plain": [
       "       category_id category_name\n",
       "0  sr:category:181    Hopman Cup\n",
       "1    sr:category:3           ATP\n",
       "2   sr:category:72    Challenger\n",
       "3    sr:category:6           WTA\n",
       "4   sr:category:76     Davis Cup"
      ]
     },
     "execution_count": 21,
     "metadata": {},
     "output_type": "execute_result"
    }
   ],
   "source": [
    "df_cat.head()"
   ]
  },
  {
   "cell_type": "code",
   "execution_count": 22,
   "id": "474c697d",
   "metadata": {},
   "outputs": [
    {
     "name": "stdout",
     "output_type": "stream",
     "text": [
      "(6016, 2)\n"
     ]
    }
   ],
   "source": [
    "print(df_cat.shape)"
   ]
  },
  {
   "cell_type": "code",
   "execution_count": 23,
   "id": "ae82e804",
   "metadata": {},
   "outputs": [
    {
     "name": "stdout",
     "output_type": "stream",
     "text": [
      "category_id      0\n",
      "category_name    0\n",
      "dtype: int64\n"
     ]
    }
   ],
   "source": [
    "print(df_cat.isnull().sum())"
   ]
  },
  {
   "cell_type": "markdown",
   "id": "4a78c24e",
   "metadata": {},
   "source": [
    "Shows no nulls in df_cat"
   ]
  },
  {
   "cell_type": "code",
   "execution_count": 24,
   "id": "6e9d1129",
   "metadata": {},
   "outputs": [
    {
     "name": "stdout",
     "output_type": "stream",
     "text": [
      "Empty DataFrame\n",
      "Columns: [comp_id, comp_name, parent_id, type, gender, category_id]\n",
      "Index: []\n"
     ]
    }
   ],
   "source": [
    "duplicates = df_comp[df_comp['comp_id'].duplicated(keep=False)]\n",
    "print(duplicates)"
   ]
  },
  {
   "cell_type": "markdown",
   "id": "6d334a0c",
   "metadata": {},
   "source": [
    "Shows no duplicates in comp_id if df_comp"
   ]
  },
  {
   "cell_type": "markdown",
   "id": "095155c2",
   "metadata": {},
   "source": [
    "To get the list of duplicated values in category_id column :"
   ]
  },
  {
   "cell_type": "code",
   "execution_count": 25,
   "id": "2548dc12",
   "metadata": {},
   "outputs": [
    {
     "name": "stdout",
     "output_type": "stream",
     "text": [
      "['sr:category:3' 'sr:category:6' 'sr:category:72' 'sr:category:785'\n",
      " 'sr:category:213' 'sr:category:871' 'sr:category:79' 'sr:category:1474'\n",
      " 'sr:category:1476' 'sr:category:1475' 'sr:category:2400'\n",
      " 'sr:category:2517' 'sr:category:2516']\n"
     ]
    }
   ],
   "source": [
    "duplicated_values = df_cat['category_id'][df_cat['category_id'].duplicated()].unique()\n",
    "print(duplicated_values)"
   ]
  },
  {
   "cell_type": "code",
   "execution_count": 26,
   "id": "2e75f252",
   "metadata": {},
   "outputs": [
    {
     "name": "stdout",
     "output_type": "stream",
     "text": [
      "category_id\n",
      "sr:category:785     2198\n",
      "sr:category:213     2032\n",
      "sr:category:72       900\n",
      "sr:category:6        253\n",
      "sr:category:3        223\n",
      "sr:category:871      172\n",
      "sr:category:2516      80\n",
      "sr:category:2517      72\n",
      "sr:category:79        32\n",
      "sr:category:1476      16\n",
      "sr:category:1474      16\n",
      "sr:category:1475      11\n",
      "sr:category:2400       6\n",
      "sr:category:181        1\n",
      "sr:category:1012       1\n",
      "sr:category:74         1\n",
      "sr:category:76         1\n",
      "sr:category:2414       1\n",
      "Name: count, dtype: int64\n"
     ]
    }
   ],
   "source": [
    "value_counts = df_cat['category_id'].value_counts()\n",
    "print(value_counts)"
   ]
  },
  {
   "cell_type": "code",
   "execution_count": 27,
   "id": "f937b1ee",
   "metadata": {},
   "outputs": [
    {
     "name": "stdout",
     "output_type": "stream",
     "text": [
      "18\n"
     ]
    }
   ],
   "source": [
    "nunique_values = df_cat['category_id'].nunique()\n",
    "print(nunique_values)"
   ]
  },
  {
   "cell_type": "markdown",
   "id": "dcbc5e0f",
   "metadata": {},
   "source": [
    "Only 18 unique category ids are there in the dataframe df_cat. We can now remove the duplicate category_id values"
   ]
  },
  {
   "cell_type": "code",
   "execution_count": 28,
   "id": "81ab670b",
   "metadata": {},
   "outputs": [
    {
     "name": "stdout",
     "output_type": "stream",
     "text": [
      "           category_id         category_name\n",
      "0      sr:category:181            Hopman Cup\n",
      "1        sr:category:3                   ATP\n",
      "2       sr:category:72            Challenger\n",
      "3        sr:category:6                   WTA\n",
      "4       sr:category:76             Davis Cup\n",
      "5       sr:category:74  Billie Jean King Cup\n",
      "358    sr:category:785               ITF Men\n",
      "376    sr:category:213             ITF Women\n",
      "679    sr:category:871              WTA 125K\n",
      "922   sr:category:1012                  IPTL\n",
      "923     sr:category:79            Exhibition\n",
      "1341  sr:category:1474               Juniors\n",
      "1345  sr:category:1476           Wheelchairs\n",
      "1349  sr:category:1475               Legends\n",
      "4844  sr:category:2400   Wheelchairs Juniors\n",
      "5005  sr:category:2414            United Cup\n",
      "5793  sr:category:2517             UTR Women\n",
      "5796  sr:category:2516               UTR Men\n"
     ]
    }
   ],
   "source": [
    "df_cat.drop_duplicates(subset=['category_id','category_name'],inplace = True)\n",
    "print(df_cat)"
   ]
  },
  {
   "cell_type": "markdown",
   "id": "71bb0ec7",
   "metadata": {},
   "source": [
    "Since all category_id values have string \"sr:category:\" in common, we can remove that string to create the category_id column values"
   ]
  },
  {
   "cell_type": "code",
   "execution_count": 29,
   "id": "91e9f5fd",
   "metadata": {},
   "outputs": [],
   "source": [
    "df_cat['category_id'] = df_cat['category_id'].str.replace('sr:category:', '', regex=False)"
   ]
  },
  {
   "cell_type": "code",
   "execution_count": 30,
   "id": "f5480411",
   "metadata": {},
   "outputs": [
    {
     "name": "stdout",
     "output_type": "stream",
     "text": [
      "     category_id         category_name\n",
      "0            181            Hopman Cup\n",
      "1              3                   ATP\n",
      "2             72            Challenger\n",
      "3              6                   WTA\n",
      "4             76             Davis Cup\n",
      "5             74  Billie Jean King Cup\n",
      "358          785               ITF Men\n",
      "376          213             ITF Women\n",
      "679          871              WTA 125K\n",
      "922         1012                  IPTL\n",
      "923           79            Exhibition\n",
      "1341        1474               Juniors\n",
      "1345        1476           Wheelchairs\n",
      "1349        1475               Legends\n",
      "4844        2400   Wheelchairs Juniors\n",
      "5005        2414            United Cup\n",
      "5793        2517             UTR Women\n",
      "5796        2516               UTR Men\n"
     ]
    }
   ],
   "source": [
    "print(df_cat)"
   ]
  },
  {
   "cell_type": "markdown",
   "id": "6e6b7619",
   "metadata": {},
   "source": [
    "Reset the indexes"
   ]
  },
  {
   "cell_type": "code",
   "execution_count": 31,
   "id": "9a3b99f3",
   "metadata": {},
   "outputs": [],
   "source": [
    "df_cat.reset_index(drop=True, inplace=True)"
   ]
  },
  {
   "cell_type": "code",
   "execution_count": 32,
   "id": "72a184b6",
   "metadata": {},
   "outputs": [
    {
     "name": "stdout",
     "output_type": "stream",
     "text": [
      "   category_id         category_name\n",
      "0          181            Hopman Cup\n",
      "1            3                   ATP\n",
      "2           72            Challenger\n",
      "3            6                   WTA\n",
      "4           76             Davis Cup\n",
      "5           74  Billie Jean King Cup\n",
      "6          785               ITF Men\n",
      "7          213             ITF Women\n",
      "8          871              WTA 125K\n",
      "9         1012                  IPTL\n",
      "10          79            Exhibition\n",
      "11        1474               Juniors\n",
      "12        1476           Wheelchairs\n",
      "13        1475               Legends\n",
      "14        2400   Wheelchairs Juniors\n",
      "15        2414            United Cup\n",
      "16        2517             UTR Women\n",
      "17        2516               UTR Men\n"
     ]
    }
   ],
   "source": [
    "print(df_cat)"
   ]
  },
  {
   "cell_type": "markdown",
   "id": "d937deff",
   "metadata": {},
   "source": [
    "Remove sr:competetion: in parent_id of df_comp dataframe"
   ]
  },
  {
   "cell_type": "code",
   "execution_count": 33,
   "id": "fa21b365",
   "metadata": {},
   "outputs": [],
   "source": [
    "df_comp['parent_id'] = df_comp['parent_id'].str.replace('sr:competition:', '', regex=False)"
   ]
  },
  {
   "cell_type": "code",
   "execution_count": 34,
   "id": "04cc854a",
   "metadata": {},
   "outputs": [
    {
     "name": "stdout",
     "output_type": "stream",
     "text": [
      "  comp_id                          comp_name parent_id     type gender  \\\n",
      "0     620                         Hopman Cup      None    mixed  mixed   \n",
      "1     660                     World Team Cup      None    mixed    men   \n",
      "2     990         ATP Challenger Tour Finals      6239  singles    men   \n",
      "3    1207  Championship International Series      None  singles  women   \n",
      "4    2100                          Davis Cup      None    mixed    men   \n",
      "\n",
      "       category_id  \n",
      "0  sr:category:181  \n",
      "1    sr:category:3  \n",
      "2   sr:category:72  \n",
      "3    sr:category:6  \n",
      "4   sr:category:76  \n"
     ]
    }
   ],
   "source": [
    "print(df_comp.head())"
   ]
  },
  {
   "cell_type": "markdown",
   "id": "fc9e0ea7",
   "metadata": {},
   "source": [
    "Change the category id in df_comp dataframe removing sr:category: "
   ]
  },
  {
   "cell_type": "code",
   "execution_count": 35,
   "id": "556b67ce",
   "metadata": {},
   "outputs": [],
   "source": [
    "df_comp['category_id'] = df_comp['category_id'].str.replace('sr:category:', '', regex=False)"
   ]
  },
  {
   "cell_type": "code",
   "execution_count": 36,
   "id": "33c5d83d",
   "metadata": {},
   "outputs": [
    {
     "name": "stdout",
     "output_type": "stream",
     "text": [
      "  comp_id                          comp_name parent_id     type gender  \\\n",
      "0     620                         Hopman Cup      None    mixed  mixed   \n",
      "1     660                     World Team Cup      None    mixed    men   \n",
      "2     990         ATP Challenger Tour Finals      6239  singles    men   \n",
      "3    1207  Championship International Series      None  singles  women   \n",
      "4    2100                          Davis Cup      None    mixed    men   \n",
      "\n",
      "  category_id  \n",
      "0         181  \n",
      "1           3  \n",
      "2          72  \n",
      "3           6  \n",
      "4          76  \n"
     ]
    }
   ],
   "source": [
    "print(df_comp.head())"
   ]
  },
  {
   "cell_type": "markdown",
   "id": "5a903d04",
   "metadata": {},
   "source": [
    "Check the datatypes of df_comp"
   ]
  },
  {
   "cell_type": "code",
   "execution_count": 37,
   "id": "0aedab8b",
   "metadata": {},
   "outputs": [
    {
     "name": "stdout",
     "output_type": "stream",
     "text": [
      "comp_id        object\n",
      "comp_name      object\n",
      "parent_id      object\n",
      "type           object\n",
      "gender         object\n",
      "category_id    object\n",
      "dtype: object\n"
     ]
    }
   ],
   "source": [
    "print(df_comp.dtypes)"
   ]
  },
  {
   "cell_type": "markdown",
   "id": "059222ed",
   "metadata": {},
   "source": [
    "Check the datatypes of df_cat"
   ]
  },
  {
   "cell_type": "code",
   "execution_count": 38,
   "id": "10c875a1",
   "metadata": {},
   "outputs": [
    {
     "name": "stdout",
     "output_type": "stream",
     "text": [
      "category_id      object\n",
      "category_name    object\n",
      "dtype: object\n"
     ]
    }
   ],
   "source": [
    "print(df_cat.dtypes)"
   ]
  },
  {
   "cell_type": "markdown",
   "id": "89ce44db",
   "metadata": {},
   "source": [
    "Connecting to MySql using connector:\n",
    "# pip install mysql\n",
    "# pip install mysql-connector-python"
   ]
  },
  {
   "cell_type": "code",
   "execution_count": 39,
   "id": "359a65e3",
   "metadata": {},
   "outputs": [
    {
     "name": "stdout",
     "output_type": "stream",
     "text": [
      "MySQL connection established!\n"
     ]
    }
   ],
   "source": [
    "import mysql.connector\n",
    "\n",
    "conn_mysql = mysql.connector.connect(\n",
    "    host=\"localhost\",\n",
    "    user=\"root\",\n",
    "    password=\"Raji\"\n",
    ")\n",
    "cursor_mysql = conn_mysql.cursor()\n",
    "print(\"MySQL connection established!\")"
   ]
  },
  {
   "cell_type": "markdown",
   "id": "c168a4a3",
   "metadata": {},
   "source": [
    "Create a database in MySql:"
   ]
  },
  {
   "cell_type": "code",
   "execution_count": 40,
   "id": "3eb2e80e",
   "metadata": {},
   "outputs": [
    {
     "name": "stdout",
     "output_type": "stream",
     "text": [
      "MySQL database 'SportsRadar_db' created successfully!\n"
     ]
    }
   ],
   "source": [
    "cursor_mysql.execute(\"CREATE DATABASE IF NOT EXISTS SportsRadar_db;\")\n",
    "print(\"MySQL database 'SportsRadar_db' created successfully!\")"
   ]
  },
  {
   "cell_type": "markdown",
   "id": "b0596d90",
   "metadata": {},
   "source": [
    "Creating a table Categories in SportsRadar_db in MySql :"
   ]
  },
  {
   "cell_type": "code",
   "execution_count": 41,
   "id": "53d3b44c",
   "metadata": {},
   "outputs": [
    {
     "name": "stdout",
     "output_type": "stream",
     "text": [
      "Table 'Categories' created successfully in MySQL!\n"
     ]
    }
   ],
   "source": [
    "cursor_mysql.execute(\"USE SportsRadar_db\")  # Select database\n",
    "cursor_mysql.execute(\"\"\"\n",
    "    CREATE TABLE IF NOT EXISTS Categories (\n",
    "        category_id VARCHAR(50) PRIMARY KEY,\n",
    "        category_name VARCHAR(100) NOT NULL  \n",
    "       \n",
    "    );\n",
    "\"\"\")\n",
    "conn_mysql.commit()\n",
    "print(\"Table 'Categories' created successfully in MySQL!\")"
   ]
  },
  {
   "cell_type": "markdown",
   "id": "090df67b",
   "metadata": {},
   "source": [
    "Inserting data into the categories table:"
   ]
  },
  {
   "cell_type": "code",
   "execution_count": null,
   "id": "c55e49ec",
   "metadata": {},
   "outputs": [],
   "source": [
    "data_list = df_cat.values.tolist()\n",
    "query = \"\"\"\n",
    "    INSERT INTO Categories (category_id, category_name)\n",
    "    VALUES (%s, %s);\n",
    "\"\"\"\n",
    "cursor_mysql.executemany(query, data_list)\n",
    "conn_mysql.commit()\n",
    "print(\"Data inserted using to_list()\")\n"
   ]
  },
  {
   "cell_type": "markdown",
   "id": "ab522580",
   "metadata": {},
   "source": [
    "Create Table Competetions "
   ]
  },
  {
   "cell_type": "code",
   "execution_count": 43,
   "id": "a8f8f31f",
   "metadata": {},
   "outputs": [
    {
     "name": "stdout",
     "output_type": "stream",
     "text": [
      "Table 'Competitions' created successfully in MySQL!\n"
     ]
    }
   ],
   "source": [
    "cursor_mysql.execute(\"USE SportsRadar_db\")  # Select database\n",
    "cursor_mysql.execute(\"\"\"\n",
    "    CREATE TABLE IF NOT EXISTS Competitions (\n",
    "        competition_id VARCHAR(50) PRIMARY KEY,\n",
    "        competition_name VARCHAR(100) NOT NULL,\n",
    "        parent_id VARCHAR(50) NULL,\n",
    "        type VARCHAR(20) NOT NULL,\n",
    "        gender VARCHAR(10) NOT NULL,\n",
    "        category_id VARCHAR(50),\n",
    "        FOREIGN KEY(category_id) REFERENCES categories(category_id)\n",
    "       \n",
    "    );\n",
    "\"\"\")\n",
    "conn_mysql.commit()\n",
    "print(\"Table 'Competitions' created successfully in MySQL!\")"
   ]
  },
  {
   "cell_type": "markdown",
   "id": "cb38ee10",
   "metadata": {},
   "source": [
    "Insert into Competetions table data from df_comp:"
   ]
  },
  {
   "cell_type": "code",
   "execution_count": null,
   "id": "6775e894",
   "metadata": {},
   "outputs": [],
   "source": [
    "data_list = df_comp.values.tolist()\n",
    "query = \"\"\"\n",
    "    INSERT INTO Competitions(competition_id, competition_name, parent_id, type, gender, category_id)\n",
    "    VALUES (%s, %s, %s, %s, %s, %s);\n",
    "\"\"\"\n",
    "cursor_mysql.executemany(query, data_list)\n",
    "conn_mysql.commit()\n",
    "print(\"Data inserted using to_list()\")\n"
   ]
  },
  {
   "cell_type": "markdown",
   "id": "d42ad8cb",
   "metadata": {},
   "source": [
    "Sql Queries:"
   ]
  },
  {
   "cell_type": "markdown",
   "id": "164f54e6",
   "metadata": {},
   "source": [
    "1) \tList all competitions along with their category name"
   ]
  },
  {
   "cell_type": "code",
   "execution_count": null,
   "id": "0b70074c",
   "metadata": {},
   "outputs": [],
   "source": [
    "cursor_mysql.execute(\"\"\"\n",
    "SELECT \n",
    "    c.competition_id,\n",
    "    c.competition_name,\n",
    "    c.parent_id,\n",
    "    c.type,\n",
    "    c.gender,\n",
    "    cat.category_name\n",
    "FROM \n",
    "    Competitions c\n",
    "JOIN \n",
    "    Categories cat\n",
    "ON \n",
    "    c.category_id = cat.category_id;\n",
    "\"\"\")\n",
    "\n",
    "results = cursor_mysql.fetchall()\n",
    "\n",
    "for row in results:\n",
    "    print(row)"
   ]
  },
  {
   "cell_type": "markdown",
   "id": "1ed2df67",
   "metadata": {},
   "source": [
    "2) \tCount the number of competitions in each category"
   ]
  },
  {
   "cell_type": "code",
   "execution_count": 113,
   "id": "5a447e26",
   "metadata": {},
   "outputs": [
    {
     "name": "stdout",
     "output_type": "stream",
     "text": [
      "('IPTL', 1)\n",
      "('Juniors', 16)\n",
      "('Legends', 11)\n",
      "('Wheelchairs', 16)\n",
      "('Hopman Cup', 1)\n",
      "('ITF Women', 2032)\n",
      "('Wheelchairs Juniors', 6)\n",
      "('United Cup', 1)\n",
      "('UTR Men', 80)\n",
      "('UTR Women', 72)\n",
      "('ATP', 223)\n",
      "('WTA', 253)\n",
      "('Challenger', 900)\n",
      "('Billie Jean King Cup', 1)\n",
      "('Davis Cup', 1)\n",
      "('ITF Men', 2198)\n",
      "('Exhibition', 32)\n",
      "('WTA 125K', 172)\n"
     ]
    }
   ],
   "source": [
    "cursor_mysql.execute(\"\"\"\n",
    "SELECT \n",
    "    cat.category_name,\n",
    "    COUNT(c.competition_id) AS competition_count\n",
    "FROM \n",
    "    Categories cat\n",
    "LEFT JOIN \n",
    "    Competitions c\n",
    "ON \n",
    "    cat.category_id = c.category_id\n",
    "GROUP BY \n",
    "    cat.category_name;\n",
    "\"\"\")\n",
    "\n",
    "results = cursor_mysql.fetchall()\n",
    "\n",
    "for row in results:\n",
    "    print(row)"
   ]
  },
  {
   "cell_type": "markdown",
   "id": "174a64cc",
   "metadata": {},
   "source": [
    "3)\tFind all competitions of type 'doubles'"
   ]
  },
  {
   "cell_type": "code",
   "execution_count": null,
   "id": "800a48b7",
   "metadata": {},
   "outputs": [],
   "source": [
    "cursor_mysql.execute(\"\"\"\n",
    "SELECT \n",
    "    competition_id,\n",
    "    competition_name,\n",
    "    parent_id,\n",
    "    type,\n",
    "    gender,\n",
    "    category_id\n",
    "FROM \n",
    "    Competitions\n",
    "WHERE \n",
    "    type = 'doubles';\n",
    "\"\"\")\n",
    "\n",
    "results = cursor_mysql.fetchall()\n",
    "\n",
    "for row in results:\n",
    "    print(row)"
   ]
  },
  {
   "cell_type": "markdown",
   "id": "c0c8b026",
   "metadata": {},
   "source": [
    "4)\tGet competitions that belong to a specific category (e.g., ITF Men)"
   ]
  },
  {
   "cell_type": "code",
   "execution_count": null,
   "id": "71c2f84a",
   "metadata": {},
   "outputs": [],
   "source": [
    "category_to_search = \"ITF Men\"\n",
    "\n",
    "cursor_mysql.execute(f\"\"\"\n",
    "SELECT \n",
    "    c.competition_id,\n",
    "    c.competition_name,\n",
    "    c.parent_id,\n",
    "    c.type,\n",
    "    c.gender,\n",
    "    cat.category_name\n",
    "FROM \n",
    "    Competitions c\n",
    "JOIN \n",
    "    Categories cat\n",
    "ON \n",
    "    c.category_id = cat.category_id\n",
    "WHERE \n",
    "    cat.category_name = '{category_to_search}';\n",
    "\"\"\")\n",
    "\n",
    "results = cursor_mysql.fetchall()\n",
    "\n",
    "for row in results:\n",
    "    print(row)\n"
   ]
  },
  {
   "cell_type": "markdown",
   "id": "45862f13",
   "metadata": {},
   "source": [
    "5)\tIdentify parent competitions and their sub-competitions"
   ]
  },
  {
   "cell_type": "code",
   "execution_count": 117,
   "id": "daf7f0ff",
   "metadata": {},
   "outputs": [
    {
     "name": "stdout",
     "output_type": "stream",
     "text": [
      "('16976', 'ITF Romania F9, Men Singles', '16978', 'ITF Romania F9, Men Doubles')\n",
      "('45363', 'UTR Boca Raton W01', '45971', 'UTR Boca Raton W03')\n"
     ]
    }
   ],
   "source": [
    "cursor_mysql.execute(\"\"\"\n",
    "SELECT \n",
    "    parent.competition_id AS parent_id,\n",
    "    parent.competition_name AS parent_name,\n",
    "    child.competition_id AS sub_compitition_id,\n",
    "    child.competition_name AS sub_competition_name\n",
    "FROM \n",
    "    Competitions parent\n",
    "JOIN \n",
    "    Competitions child\n",
    "ON \n",
    "    parent.competition_id = child.parent_id;\n",
    "\"\"\")\n",
    "\n",
    "results = cursor_mysql.fetchall()\n",
    "\n",
    "for row in results:\n",
    "    print(row)\n"
   ]
  },
  {
   "cell_type": "markdown",
   "id": "b230c3cf",
   "metadata": {},
   "source": [
    "6)\tAnalyze the distribution of competition types by category"
   ]
  },
  {
   "cell_type": "code",
   "execution_count": null,
   "id": "118d34df",
   "metadata": {},
   "outputs": [],
   "source": [
    "cursor_mysql.execute(\"\"\"\n",
    "SELECT \n",
    "    cat.category_name,\n",
    "    c.type,\n",
    "    COUNT(c.competition_id) AS competition_count\n",
    "FROM \n",
    "    Categories cat\n",
    "LEFT JOIN \n",
    "    Competitions c\n",
    "ON \n",
    "    cat.category_id = c.category_id\n",
    "GROUP BY \n",
    "    cat.category_name,\n",
    "    c.type\n",
    "ORDER BY \n",
    "    cat.category_name, c.type;\n",
    "\"\"\")\n",
    "\n",
    "results = cursor_mysql.fetchall()\n",
    "\n",
    "for row in results:\n",
    "    print(row)\n"
   ]
  },
  {
   "cell_type": "markdown",
   "id": "a595f35a",
   "metadata": {},
   "source": [
    "7)\tList all competitions with no parent (top-level competitions)"
   ]
  },
  {
   "cell_type": "code",
   "execution_count": null,
   "id": "e2afedb1",
   "metadata": {},
   "outputs": [],
   "source": [
    "cursor_mysql.execute(\"\"\"\n",
    "SELECT \n",
    "    competition_id,\n",
    "    competition_name,\n",
    "    type,\n",
    "    gender,\n",
    "    category_id\n",
    "FROM \n",
    "    Competitions\n",
    "WHERE \n",
    "    parent_id IS NULL;\n",
    "\"\"\")\n",
    "\n",
    "results = cursor_mysql.fetchall()\n",
    "\n",
    "for row in results:\n",
    "    print(row)\n"
   ]
  },
  {
   "cell_type": "markdown",
   "id": "e2b08bd4",
   "metadata": {},
   "source": [
    "COLLECT THE COMPLEXES DATA FROM THE API ENDPOINTS-"
   ]
  },
  {
   "cell_type": "code",
   "execution_count": null,
   "id": "3829278d",
   "metadata": {},
   "outputs": [],
   "source": [
    "import requests\n",
    "\n",
    "url = \"https://api.sportradar.com/tennis/trial/v3/en/complexes.json?api_key=16wTj59jvrpj3B0FSffrzNPbhar1QCXTaPDmFDuC\"\n",
    "\n",
    "headers = {\"accept\": \"application/json\"}\n",
    "\n",
    "response = requests.get(url, headers=headers)\n",
    "\n",
    "print(response.text)"
   ]
  },
  {
   "cell_type": "markdown",
   "id": "41247464",
   "metadata": {},
   "source": [
    "Converting the json data to Python Dictionary :"
   ]
  },
  {
   "cell_type": "code",
   "execution_count": 47,
   "id": "0f7b7124",
   "metadata": {},
   "outputs": [],
   "source": [
    "import json\n",
    "data = json.loads(response.text)"
   ]
  },
  {
   "cell_type": "code",
   "execution_count": null,
   "id": "b07b0161",
   "metadata": {},
   "outputs": [],
   "source": [
    "data"
   ]
  },
  {
   "cell_type": "markdown",
   "id": "9fbac529",
   "metadata": {},
   "source": [
    "Getting the Complexes data and Venues data:"
   ]
  },
  {
   "cell_type": "code",
   "execution_count": 49,
   "id": "1418bfa6",
   "metadata": {},
   "outputs": [],
   "source": [
    "complexes_data = []\n",
    "venues_list = []\n",
    "\n",
    "for i in data['complexes']:\n",
    "    complexes_data.append({\n",
    "        'complex_id': i['id'],\n",
    "        'complex_name': i['name']\n",
    "    })\n",
    "\n",
    "    # Check if 'venues' exists and is a list\n",
    "    if 'venues' in i and isinstance(i['venues'], list):\n",
    "        for venue in i['venues']:\n",
    "            venues_list.append({\n",
    "                'venue_id': venue['id'],\n",
    "                'venue_name': venue['name'],\n",
    "                'venue_city_name': venue['city_name'],\n",
    "                'venue_country_name': venue['country_name'],\n",
    "                'venue_country_code': venue['country_code'],\n",
    "                'venue_timezone': venue['timezone'],\n",
    "                'complex_id': i['id']\n",
    "            })\n",
    "\n"
   ]
  },
  {
   "cell_type": "code",
   "execution_count": 50,
   "id": "45531d84",
   "metadata": {},
   "outputs": [],
   "source": [
    "df_complexes = pd.DataFrame(complexes_data)\n",
    "df_venues = pd.DataFrame(venues_list)"
   ]
  },
  {
   "cell_type": "code",
   "execution_count": 51,
   "id": "3f2e4395",
   "metadata": {},
   "outputs": [
    {
     "data": {
      "text/html": [
       "<div>\n",
       "<style scoped>\n",
       "    .dataframe tbody tr th:only-of-type {\n",
       "        vertical-align: middle;\n",
       "    }\n",
       "\n",
       "    .dataframe tbody tr th {\n",
       "        vertical-align: top;\n",
       "    }\n",
       "\n",
       "    .dataframe thead th {\n",
       "        text-align: right;\n",
       "    }\n",
       "</style>\n",
       "<table border=\"1\" class=\"dataframe\">\n",
       "  <thead>\n",
       "    <tr style=\"text-align: right;\">\n",
       "      <th></th>\n",
       "      <th>complex_id</th>\n",
       "      <th>complex_name</th>\n",
       "    </tr>\n",
       "  </thead>\n",
       "  <tbody>\n",
       "    <tr>\n",
       "      <th>0</th>\n",
       "      <td>sr:complex:705</td>\n",
       "      <td>Nacional</td>\n",
       "    </tr>\n",
       "    <tr>\n",
       "      <th>1</th>\n",
       "      <td>sr:complex:1078</td>\n",
       "      <td>Estadio de la Cartuja</td>\n",
       "    </tr>\n",
       "    <tr>\n",
       "      <th>2</th>\n",
       "      <td>sr:complex:1495</td>\n",
       "      <td>Sibur Arena</td>\n",
       "    </tr>\n",
       "    <tr>\n",
       "      <th>3</th>\n",
       "      <td>sr:complex:2375</td>\n",
       "      <td>Complexo de Tenis do Jamor</td>\n",
       "    </tr>\n",
       "    <tr>\n",
       "      <th>4</th>\n",
       "      <td>sr:complex:4032</td>\n",
       "      <td>Shree Shiv Chhatrapati Sports Complex</td>\n",
       "    </tr>\n",
       "  </tbody>\n",
       "</table>\n",
       "</div>"
      ],
      "text/plain": [
       "        complex_id                           complex_name\n",
       "0   sr:complex:705                               Nacional\n",
       "1  sr:complex:1078                  Estadio de la Cartuja\n",
       "2  sr:complex:1495                            Sibur Arena\n",
       "3  sr:complex:2375             Complexo de Tenis do Jamor\n",
       "4  sr:complex:4032  Shree Shiv Chhatrapati Sports Complex"
      ]
     },
     "execution_count": 51,
     "metadata": {},
     "output_type": "execute_result"
    }
   ],
   "source": [
    "df_complexes.head()"
   ]
  },
  {
   "cell_type": "markdown",
   "id": "62cb5de9",
   "metadata": {},
   "source": [
    "Check if nulls present in df_complexes:"
   ]
  },
  {
   "cell_type": "code",
   "execution_count": 52,
   "id": "9da47afa",
   "metadata": {},
   "outputs": [
    {
     "name": "stdout",
     "output_type": "stream",
     "text": [
      "complex_id      0\n",
      "complex_name    0\n",
      "dtype: int64\n"
     ]
    }
   ],
   "source": [
    "print(df_complexes.isnull().sum())"
   ]
  },
  {
   "cell_type": "markdown",
   "id": "6028baaa",
   "metadata": {},
   "source": [
    "No nulls in df_complexes.\n",
    "To Check if all rows of column complex_id has 'sr:complex:'"
   ]
  },
  {
   "cell_type": "code",
   "execution_count": 53,
   "id": "3c9ab10d",
   "metadata": {},
   "outputs": [
    {
     "name": "stdout",
     "output_type": "stream",
     "text": [
      "True\n"
     ]
    }
   ],
   "source": [
    "contains_in_all = df_complexes['complex_id'].str.contains('sr:complex:').all()\n",
    "print (contains_in_all)"
   ]
  },
  {
   "cell_type": "markdown",
   "id": "7b54f7f0",
   "metadata": {},
   "source": [
    "Since all rows in complex_id column has string 'sr:complex' the string can be removed"
   ]
  },
  {
   "cell_type": "code",
   "execution_count": 54,
   "id": "772f6e00",
   "metadata": {},
   "outputs": [],
   "source": [
    "df_complexes['complex_id'] = df_complexes['complex_id'].str.replace('sr:complex:', '', regex=False)"
   ]
  },
  {
   "cell_type": "markdown",
   "id": "ece206b5",
   "metadata": {},
   "source": [
    "Display the dataframe df_complexes"
   ]
  },
  {
   "cell_type": "code",
   "execution_count": 55,
   "id": "a012d68e",
   "metadata": {},
   "outputs": [
    {
     "data": {
      "text/html": [
       "<div>\n",
       "<style scoped>\n",
       "    .dataframe tbody tr th:only-of-type {\n",
       "        vertical-align: middle;\n",
       "    }\n",
       "\n",
       "    .dataframe tbody tr th {\n",
       "        vertical-align: top;\n",
       "    }\n",
       "\n",
       "    .dataframe thead th {\n",
       "        text-align: right;\n",
       "    }\n",
       "</style>\n",
       "<table border=\"1\" class=\"dataframe\">\n",
       "  <thead>\n",
       "    <tr style=\"text-align: right;\">\n",
       "      <th></th>\n",
       "      <th>complex_id</th>\n",
       "      <th>complex_name</th>\n",
       "    </tr>\n",
       "  </thead>\n",
       "  <tbody>\n",
       "    <tr>\n",
       "      <th>0</th>\n",
       "      <td>705</td>\n",
       "      <td>Nacional</td>\n",
       "    </tr>\n",
       "    <tr>\n",
       "      <th>1</th>\n",
       "      <td>1078</td>\n",
       "      <td>Estadio de la Cartuja</td>\n",
       "    </tr>\n",
       "    <tr>\n",
       "      <th>2</th>\n",
       "      <td>1495</td>\n",
       "      <td>Sibur Arena</td>\n",
       "    </tr>\n",
       "    <tr>\n",
       "      <th>3</th>\n",
       "      <td>2375</td>\n",
       "      <td>Complexo de Tenis do Jamor</td>\n",
       "    </tr>\n",
       "    <tr>\n",
       "      <th>4</th>\n",
       "      <td>4032</td>\n",
       "      <td>Shree Shiv Chhatrapati Sports Complex</td>\n",
       "    </tr>\n",
       "  </tbody>\n",
       "</table>\n",
       "</div>"
      ],
      "text/plain": [
       "  complex_id                           complex_name\n",
       "0        705                               Nacional\n",
       "1       1078                  Estadio de la Cartuja\n",
       "2       1495                            Sibur Arena\n",
       "3       2375             Complexo de Tenis do Jamor\n",
       "4       4032  Shree Shiv Chhatrapati Sports Complex"
      ]
     },
     "execution_count": 55,
     "metadata": {},
     "output_type": "execute_result"
    }
   ],
   "source": [
    "df_complexes.head()"
   ]
  },
  {
   "cell_type": "code",
   "execution_count": 56,
   "id": "40c6abf1",
   "metadata": {},
   "outputs": [
    {
     "data": {
      "text/html": [
       "<div>\n",
       "<style scoped>\n",
       "    .dataframe tbody tr th:only-of-type {\n",
       "        vertical-align: middle;\n",
       "    }\n",
       "\n",
       "    .dataframe tbody tr th {\n",
       "        vertical-align: top;\n",
       "    }\n",
       "\n",
       "    .dataframe thead th {\n",
       "        text-align: right;\n",
       "    }\n",
       "</style>\n",
       "<table border=\"1\" class=\"dataframe\">\n",
       "  <thead>\n",
       "    <tr style=\"text-align: right;\">\n",
       "      <th></th>\n",
       "      <th>venue_id</th>\n",
       "      <th>venue_name</th>\n",
       "      <th>venue_city_name</th>\n",
       "      <th>venue_country_name</th>\n",
       "      <th>venue_country_code</th>\n",
       "      <th>venue_timezone</th>\n",
       "      <th>complex_id</th>\n",
       "    </tr>\n",
       "  </thead>\n",
       "  <tbody>\n",
       "    <tr>\n",
       "      <th>0</th>\n",
       "      <td>sr:venue:70045</td>\n",
       "      <td>Cancha Central</td>\n",
       "      <td>Santiago</td>\n",
       "      <td>Chile</td>\n",
       "      <td>CHL</td>\n",
       "      <td>America/Santiago</td>\n",
       "      <td>sr:complex:705</td>\n",
       "    </tr>\n",
       "    <tr>\n",
       "      <th>1</th>\n",
       "      <td>sr:venue:74856</td>\n",
       "      <td>Centre Court</td>\n",
       "      <td>Seville</td>\n",
       "      <td>Spain</td>\n",
       "      <td>ESP</td>\n",
       "      <td>Europe/Madrid</td>\n",
       "      <td>sr:complex:1078</td>\n",
       "    </tr>\n",
       "    <tr>\n",
       "      <th>2</th>\n",
       "      <td>sr:venue:74858</td>\n",
       "      <td>Court One</td>\n",
       "      <td>Seville</td>\n",
       "      <td>Spain</td>\n",
       "      <td>ESP</td>\n",
       "      <td>Europe/Madrid</td>\n",
       "      <td>sr:complex:1078</td>\n",
       "    </tr>\n",
       "    <tr>\n",
       "      <th>3</th>\n",
       "      <td>sr:venue:1496</td>\n",
       "      <td>COURT 1</td>\n",
       "      <td>Saint Petersburg</td>\n",
       "      <td>Russia</td>\n",
       "      <td>RUS</td>\n",
       "      <td>Europe/Moscow</td>\n",
       "      <td>sr:complex:1495</td>\n",
       "    </tr>\n",
       "    <tr>\n",
       "      <th>4</th>\n",
       "      <td>sr:venue:1500</td>\n",
       "      <td>CENTER COURT</td>\n",
       "      <td>Saint Petersburg</td>\n",
       "      <td>Russia</td>\n",
       "      <td>RUS</td>\n",
       "      <td>Europe/Moscow</td>\n",
       "      <td>sr:complex:1495</td>\n",
       "    </tr>\n",
       "  </tbody>\n",
       "</table>\n",
       "</div>"
      ],
      "text/plain": [
       "         venue_id      venue_name   venue_city_name venue_country_name  \\\n",
       "0  sr:venue:70045  Cancha Central          Santiago              Chile   \n",
       "1  sr:venue:74856    Centre Court           Seville              Spain   \n",
       "2  sr:venue:74858       Court One           Seville              Spain   \n",
       "3   sr:venue:1496         COURT 1  Saint Petersburg             Russia   \n",
       "4   sr:venue:1500    CENTER COURT  Saint Petersburg             Russia   \n",
       "\n",
       "  venue_country_code    venue_timezone       complex_id  \n",
       "0                CHL  America/Santiago   sr:complex:705  \n",
       "1                ESP     Europe/Madrid  sr:complex:1078  \n",
       "2                ESP     Europe/Madrid  sr:complex:1078  \n",
       "3                RUS     Europe/Moscow  sr:complex:1495  \n",
       "4                RUS     Europe/Moscow  sr:complex:1495  "
      ]
     },
     "execution_count": 56,
     "metadata": {},
     "output_type": "execute_result"
    }
   ],
   "source": [
    "df_venues.head()"
   ]
  },
  {
   "cell_type": "markdown",
   "id": "e96bf055",
   "metadata": {},
   "source": [
    "check if nulls present in df_venues"
   ]
  },
  {
   "cell_type": "code",
   "execution_count": 57,
   "id": "4d93a070",
   "metadata": {},
   "outputs": [
    {
     "name": "stdout",
     "output_type": "stream",
     "text": [
      "venue_id              0\n",
      "venue_name            0\n",
      "venue_city_name       0\n",
      "venue_country_name    0\n",
      "venue_country_code    0\n",
      "venue_timezone        0\n",
      "complex_id            0\n",
      "dtype: int64\n"
     ]
    }
   ],
   "source": [
    "print(df_venues.isnull().sum())"
   ]
  },
  {
   "cell_type": "markdown",
   "id": "328e9171",
   "metadata": {},
   "source": [
    "No nulls in df_venues.\n",
    "To Check if all rows of column venue_id has string 'sr:venue:'"
   ]
  },
  {
   "cell_type": "code",
   "execution_count": 58,
   "id": "d2c88834",
   "metadata": {},
   "outputs": [
    {
     "name": "stdout",
     "output_type": "stream",
     "text": [
      "True\n"
     ]
    }
   ],
   "source": [
    "contains_in_all = df_venues['venue_id'].str.contains('sr:venue:').all()\n",
    "print (contains_in_all)"
   ]
  },
  {
   "cell_type": "markdown",
   "id": "8f778824",
   "metadata": {},
   "source": [
    "Since all rows in venue_id column has string 'sr:venue' the string can be removed"
   ]
  },
  {
   "cell_type": "code",
   "execution_count": 59,
   "id": "7587d17e",
   "metadata": {},
   "outputs": [],
   "source": [
    "df_venues['venue_id'] = df_venues['venue_id'].str.replace('sr:venue:', '', regex=False)"
   ]
  },
  {
   "cell_type": "code",
   "execution_count": 60,
   "id": "52feb771",
   "metadata": {},
   "outputs": [
    {
     "data": {
      "text/html": [
       "<div>\n",
       "<style scoped>\n",
       "    .dataframe tbody tr th:only-of-type {\n",
       "        vertical-align: middle;\n",
       "    }\n",
       "\n",
       "    .dataframe tbody tr th {\n",
       "        vertical-align: top;\n",
       "    }\n",
       "\n",
       "    .dataframe thead th {\n",
       "        text-align: right;\n",
       "    }\n",
       "</style>\n",
       "<table border=\"1\" class=\"dataframe\">\n",
       "  <thead>\n",
       "    <tr style=\"text-align: right;\">\n",
       "      <th></th>\n",
       "      <th>venue_id</th>\n",
       "      <th>venue_name</th>\n",
       "      <th>venue_city_name</th>\n",
       "      <th>venue_country_name</th>\n",
       "      <th>venue_country_code</th>\n",
       "      <th>venue_timezone</th>\n",
       "      <th>complex_id</th>\n",
       "    </tr>\n",
       "  </thead>\n",
       "  <tbody>\n",
       "    <tr>\n",
       "      <th>0</th>\n",
       "      <td>70045</td>\n",
       "      <td>Cancha Central</td>\n",
       "      <td>Santiago</td>\n",
       "      <td>Chile</td>\n",
       "      <td>CHL</td>\n",
       "      <td>America/Santiago</td>\n",
       "      <td>sr:complex:705</td>\n",
       "    </tr>\n",
       "    <tr>\n",
       "      <th>1</th>\n",
       "      <td>74856</td>\n",
       "      <td>Centre Court</td>\n",
       "      <td>Seville</td>\n",
       "      <td>Spain</td>\n",
       "      <td>ESP</td>\n",
       "      <td>Europe/Madrid</td>\n",
       "      <td>sr:complex:1078</td>\n",
       "    </tr>\n",
       "    <tr>\n",
       "      <th>2</th>\n",
       "      <td>74858</td>\n",
       "      <td>Court One</td>\n",
       "      <td>Seville</td>\n",
       "      <td>Spain</td>\n",
       "      <td>ESP</td>\n",
       "      <td>Europe/Madrid</td>\n",
       "      <td>sr:complex:1078</td>\n",
       "    </tr>\n",
       "    <tr>\n",
       "      <th>3</th>\n",
       "      <td>1496</td>\n",
       "      <td>COURT 1</td>\n",
       "      <td>Saint Petersburg</td>\n",
       "      <td>Russia</td>\n",
       "      <td>RUS</td>\n",
       "      <td>Europe/Moscow</td>\n",
       "      <td>sr:complex:1495</td>\n",
       "    </tr>\n",
       "    <tr>\n",
       "      <th>4</th>\n",
       "      <td>1500</td>\n",
       "      <td>CENTER COURT</td>\n",
       "      <td>Saint Petersburg</td>\n",
       "      <td>Russia</td>\n",
       "      <td>RUS</td>\n",
       "      <td>Europe/Moscow</td>\n",
       "      <td>sr:complex:1495</td>\n",
       "    </tr>\n",
       "  </tbody>\n",
       "</table>\n",
       "</div>"
      ],
      "text/plain": [
       "  venue_id      venue_name   venue_city_name venue_country_name  \\\n",
       "0    70045  Cancha Central          Santiago              Chile   \n",
       "1    74856    Centre Court           Seville              Spain   \n",
       "2    74858       Court One           Seville              Spain   \n",
       "3     1496         COURT 1  Saint Petersburg             Russia   \n",
       "4     1500    CENTER COURT  Saint Petersburg             Russia   \n",
       "\n",
       "  venue_country_code    venue_timezone       complex_id  \n",
       "0                CHL  America/Santiago   sr:complex:705  \n",
       "1                ESP     Europe/Madrid  sr:complex:1078  \n",
       "2                ESP     Europe/Madrid  sr:complex:1078  \n",
       "3                RUS     Europe/Moscow  sr:complex:1495  \n",
       "4                RUS     Europe/Moscow  sr:complex:1495  "
      ]
     },
     "execution_count": 60,
     "metadata": {},
     "output_type": "execute_result"
    }
   ],
   "source": [
    "df_venues.head()"
   ]
  },
  {
   "cell_type": "markdown",
   "id": "2839eb0b",
   "metadata": {},
   "source": [
    "To check for duplicates in venue_id in df_venues:"
   ]
  },
  {
   "cell_type": "code",
   "execution_count": 61,
   "id": "d6b6bb70",
   "metadata": {},
   "outputs": [
    {
     "name": "stdout",
     "output_type": "stream",
     "text": [
      "Empty DataFrame\n",
      "Columns: [venue_id, venue_name, venue_city_name, venue_country_name, venue_country_code, venue_timezone, complex_id]\n",
      "Index: []\n"
     ]
    }
   ],
   "source": [
    "duplicates = df_venues[df_venues['venue_id'].duplicated(keep=False)]\n",
    "print(duplicates)"
   ]
  },
  {
   "cell_type": "markdown",
   "id": "e7bfea7c",
   "metadata": {},
   "source": [
    "To Check if all rows of column complex_id has string 'sr:complex:' in df_venues:"
   ]
  },
  {
   "cell_type": "code",
   "execution_count": 62,
   "id": "30f9f359",
   "metadata": {},
   "outputs": [
    {
     "name": "stdout",
     "output_type": "stream",
     "text": [
      "True\n"
     ]
    }
   ],
   "source": [
    "contains_in_all = df_venues['complex_id'].str.contains('sr:complex:').all()\n",
    "print (contains_in_all)"
   ]
  },
  {
   "cell_type": "markdown",
   "id": "49b9998f",
   "metadata": {},
   "source": [
    "Since all rows in complex_id column has string 'sr:complex' the string can be removed"
   ]
  },
  {
   "cell_type": "code",
   "execution_count": 63,
   "id": "aaede720",
   "metadata": {},
   "outputs": [],
   "source": [
    "df_venues['complex_id'] = df_venues['complex_id'].str.replace('sr:complex:', '', regex=False)"
   ]
  },
  {
   "cell_type": "code",
   "execution_count": 136,
   "id": "3f2ceba7",
   "metadata": {},
   "outputs": [
    {
     "data": {
      "text/html": [
       "<div>\n",
       "<style scoped>\n",
       "    .dataframe tbody tr th:only-of-type {\n",
       "        vertical-align: middle;\n",
       "    }\n",
       "\n",
       "    .dataframe tbody tr th {\n",
       "        vertical-align: top;\n",
       "    }\n",
       "\n",
       "    .dataframe thead th {\n",
       "        text-align: right;\n",
       "    }\n",
       "</style>\n",
       "<table border=\"1\" class=\"dataframe\">\n",
       "  <thead>\n",
       "    <tr style=\"text-align: right;\">\n",
       "      <th></th>\n",
       "      <th>venue_id</th>\n",
       "      <th>venue_name</th>\n",
       "      <th>venue_city_name</th>\n",
       "      <th>venue_country_name</th>\n",
       "      <th>venue_country_code</th>\n",
       "      <th>venue_timezone</th>\n",
       "      <th>complex_id</th>\n",
       "    </tr>\n",
       "  </thead>\n",
       "  <tbody>\n",
       "    <tr>\n",
       "      <th>0</th>\n",
       "      <td>70045</td>\n",
       "      <td>Cancha Central</td>\n",
       "      <td>Santiago</td>\n",
       "      <td>Chile</td>\n",
       "      <td>CHL</td>\n",
       "      <td>America/Santiago</td>\n",
       "      <td>705</td>\n",
       "    </tr>\n",
       "    <tr>\n",
       "      <th>1</th>\n",
       "      <td>74856</td>\n",
       "      <td>Centre Court</td>\n",
       "      <td>Seville</td>\n",
       "      <td>Spain</td>\n",
       "      <td>ESP</td>\n",
       "      <td>Europe/Madrid</td>\n",
       "      <td>1078</td>\n",
       "    </tr>\n",
       "    <tr>\n",
       "      <th>2</th>\n",
       "      <td>74858</td>\n",
       "      <td>Court One</td>\n",
       "      <td>Seville</td>\n",
       "      <td>Spain</td>\n",
       "      <td>ESP</td>\n",
       "      <td>Europe/Madrid</td>\n",
       "      <td>1078</td>\n",
       "    </tr>\n",
       "    <tr>\n",
       "      <th>3</th>\n",
       "      <td>1496</td>\n",
       "      <td>COURT 1</td>\n",
       "      <td>Saint Petersburg</td>\n",
       "      <td>Russia</td>\n",
       "      <td>RUS</td>\n",
       "      <td>Europe/Moscow</td>\n",
       "      <td>1495</td>\n",
       "    </tr>\n",
       "    <tr>\n",
       "      <th>4</th>\n",
       "      <td>1500</td>\n",
       "      <td>CENTER COURT</td>\n",
       "      <td>Saint Petersburg</td>\n",
       "      <td>Russia</td>\n",
       "      <td>RUS</td>\n",
       "      <td>Europe/Moscow</td>\n",
       "      <td>1495</td>\n",
       "    </tr>\n",
       "  </tbody>\n",
       "</table>\n",
       "</div>"
      ],
      "text/plain": [
       "  venue_id      venue_name   venue_city_name venue_country_name  \\\n",
       "0    70045  Cancha Central          Santiago              Chile   \n",
       "1    74856    Centre Court           Seville              Spain   \n",
       "2    74858       Court One           Seville              Spain   \n",
       "3     1496         COURT 1  Saint Petersburg             Russia   \n",
       "4     1500    CENTER COURT  Saint Petersburg             Russia   \n",
       "\n",
       "  venue_country_code    venue_timezone complex_id  \n",
       "0                CHL  America/Santiago        705  \n",
       "1                ESP     Europe/Madrid       1078  \n",
       "2                ESP     Europe/Madrid       1078  \n",
       "3                RUS     Europe/Moscow       1495  \n",
       "4                RUS     Europe/Moscow       1495  "
      ]
     },
     "execution_count": 136,
     "metadata": {},
     "output_type": "execute_result"
    }
   ],
   "source": [
    "df_venues.head()"
   ]
  },
  {
   "cell_type": "markdown",
   "id": "4cfafa53",
   "metadata": {},
   "source": [
    "To check if there are duplicates in complex_id in df_complexes"
   ]
  },
  {
   "cell_type": "code",
   "execution_count": 64,
   "id": "f611540c",
   "metadata": {},
   "outputs": [
    {
     "name": "stdout",
     "output_type": "stream",
     "text": [
      "Empty DataFrame\n",
      "Columns: [complex_id, complex_name]\n",
      "Index: []\n"
     ]
    }
   ],
   "source": [
    "duplicates = df_complexes[df_complexes['complex_id'].duplicated(keep=False)]\n",
    "print(duplicates)"
   ]
  },
  {
   "cell_type": "markdown",
   "id": "4069b556",
   "metadata": {},
   "source": [
    "Create Table Complexes in SportsRadar_db:"
   ]
  },
  {
   "cell_type": "code",
   "execution_count": 65,
   "id": "800de1d8",
   "metadata": {},
   "outputs": [
    {
     "name": "stdout",
     "output_type": "stream",
     "text": [
      "Table 'Complexes' created successfully in MySQL!\n"
     ]
    }
   ],
   "source": [
    "cursor_mysql.execute(\"USE SportsRadar_db\")  # Select database\n",
    "cursor_mysql.execute(\"\"\"\n",
    "    CREATE TABLE IF NOT EXISTS Complexes (\n",
    "        complex_id VARCHAR(50) PRIMARY KEY,\n",
    "        complex_name VARCHAR(100) NOT NULL  \n",
    "       \n",
    "    );\n",
    "\"\"\")\n",
    "conn_mysql.commit()\n",
    "print(\"Table 'Complexes' created successfully in MySQL!\")"
   ]
  },
  {
   "cell_type": "markdown",
   "id": "8512a6c8",
   "metadata": {},
   "source": [
    "Create Table Venues in SportsRadar_db:"
   ]
  },
  {
   "cell_type": "code",
   "execution_count": 67,
   "id": "db37121b",
   "metadata": {},
   "outputs": [
    {
     "name": "stdout",
     "output_type": "stream",
     "text": [
      "Table 'Venues' created successfully in MySQL!\n"
     ]
    }
   ],
   "source": [
    "cursor_mysql.execute(\"USE SportsRadar_db\")  # Select database\n",
    "cursor_mysql.execute(\"\"\"\n",
    "    CREATE TABLE IF NOT EXISTS Venues (\n",
    "        venue_id VARCHAR(50) PRIMARY KEY,\n",
    "        venue_name VARCHAR(100) NOT NULL,\n",
    "        city_name VARCHAR(100) NOT NULL,\n",
    "        country_name VARCHAR(100) NOT NULL,\n",
    "        country_code CHAR(3) NOT NULL,\n",
    "        time_zone VARCHAR(100) NOT NULL,\n",
    "        complex_id VARCHAR(50),\n",
    "        FOREIGN KEY(complex_id) REFERENCES complexes(complex_id)                      \n",
    "       \n",
    "    );\n",
    "\"\"\")\n",
    "conn_mysql.commit()\n",
    "print(\"Table 'Venues' created successfully in MySQL!\")"
   ]
  },
  {
   "cell_type": "markdown",
   "id": "8df0d778",
   "metadata": {},
   "source": [
    "Load data into complexes table from df_complexes"
   ]
  },
  {
   "cell_type": "code",
   "execution_count": null,
   "id": "341b5fe1",
   "metadata": {},
   "outputs": [],
   "source": [
    "data_list = df_complexes.values.tolist()\n",
    "query = \"\"\"\n",
    "    INSERT INTO complexes(complex_id, complex_name)\n",
    "    VALUES (%s, %s);\n",
    "\"\"\"\n",
    "cursor_mysql.executemany(query, data_list)\n",
    "conn_mysql.commit()\n",
    "print(\"Data inserted using to_list()\")\n"
   ]
  },
  {
   "cell_type": "markdown",
   "id": "489f1805",
   "metadata": {},
   "source": [
    "Load data into venues table from df_venues"
   ]
  },
  {
   "cell_type": "code",
   "execution_count": null,
   "id": "8d2d1c43",
   "metadata": {},
   "outputs": [],
   "source": [
    "data_list = df_venues.values.tolist()\n",
    "query = \"\"\"\n",
    "    INSERT INTO venues(venue_id, venue_name,city_name,country_name,country_code,time_zone,complex_id )\n",
    "    VALUES (%s, %s,%s, %s,%s, %s,%s);\n",
    "\"\"\"\n",
    "cursor_mysql.executemany(query, data_list)\n",
    "conn_mysql.commit()\n",
    "print(\"Data inserted using to_list()\")"
   ]
  },
  {
   "cell_type": "markdown",
   "id": "ac5d9cea",
   "metadata": {},
   "source": [
    "COLLECT THE DOUBLES COMPETITOR RANKINGS DATA FROM THE API ENDPOINTS-"
   ]
  },
  {
   "cell_type": "code",
   "execution_count": null,
   "id": "a18fd116",
   "metadata": {},
   "outputs": [],
   "source": [
    "import requests\n",
    "\n",
    "url = \"https://api.sportradar.com/tennis/trial/v3/en/double_competitors_rankings.json?api_key=16wTj59jvrpj3B0FSffrzNPbhar1QCXTaPDmFDuC\"\n",
    "\n",
    "headers = {\"accept\": \"application/json\"}\n",
    "\n",
    "response = requests.get(url, headers=headers)\n",
    "\n",
    "print(response.text)"
   ]
  },
  {
   "cell_type": "markdown",
   "id": "09ac520e",
   "metadata": {},
   "source": [
    "Converting the json data to Python Dictionary :"
   ]
  },
  {
   "cell_type": "code",
   "execution_count": 83,
   "id": "962524f0",
   "metadata": {},
   "outputs": [],
   "source": [
    "import json\n",
    "data = json.loads(response.text)"
   ]
  },
  {
   "cell_type": "code",
   "execution_count": 85,
   "id": "d59a2b02",
   "metadata": {},
   "outputs": [],
   "source": [
    "rankings_list = []\n",
    "competitors_list = []\n",
    "for ranking in data['rankings']:\n",
    "    for competitor in ranking['competitor_rankings']:\n",
    "        rankings_list.append({\n",
    "            'rank': competitor['rank'],\n",
    "            'movement': competitor['movement'],\n",
    "            'points': competitor['points'], \n",
    "            'competitions_played': competitor['competitions_played'],\n",
    "            'competitor_id': competitor['competitor']['id']\n",
    "        })\n",
    "        competitor_info = competitor['competitor']\n",
    "        competitors_list.append({\n",
    "            'competitor_id': competitor_info.get('id'),\n",
    "            'name': competitor_info.get('name'),\n",
    "            'country': competitor_info.get('country'),\n",
    "            'country_code': competitor_info.get('country_code'),\n",
    "            'abbreviation': competitor_info.get('abbreviation')\n",
    "            \n",
    "        })\n",
    "        \n"
   ]
  },
  {
   "cell_type": "markdown",
   "id": "7fdb8c99",
   "metadata": {},
   "source": [
    "Check if any value is null in rankings_list and competitors_list"
   ]
  },
  {
   "cell_type": "code",
   "execution_count": 86,
   "id": "807888ad",
   "metadata": {},
   "outputs": [],
   "source": [
    "df_rankings = pd.DataFrame(rankings_list)\n",
    "df_competitors = pd.DataFrame(competitors_list)"
   ]
  },
  {
   "cell_type": "markdown",
   "id": "1891c386",
   "metadata": {},
   "source": [
    "Check first few rows of df_competitors:"
   ]
  },
  {
   "cell_type": "code",
   "execution_count": 87,
   "id": "52f88a2b",
   "metadata": {},
   "outputs": [
    {
     "data": {
      "text/html": [
       "<div>\n",
       "<style scoped>\n",
       "    .dataframe tbody tr th:only-of-type {\n",
       "        vertical-align: middle;\n",
       "    }\n",
       "\n",
       "    .dataframe tbody tr th {\n",
       "        vertical-align: top;\n",
       "    }\n",
       "\n",
       "    .dataframe thead th {\n",
       "        text-align: right;\n",
       "    }\n",
       "</style>\n",
       "<table border=\"1\" class=\"dataframe\">\n",
       "  <thead>\n",
       "    <tr style=\"text-align: right;\">\n",
       "      <th></th>\n",
       "      <th>competitor_id</th>\n",
       "      <th>name</th>\n",
       "      <th>country</th>\n",
       "      <th>country_code</th>\n",
       "      <th>abbreviation</th>\n",
       "    </tr>\n",
       "  </thead>\n",
       "  <tbody>\n",
       "    <tr>\n",
       "      <th>0</th>\n",
       "      <td>sr:competitor:49363</td>\n",
       "      <td>Pavic, Mate</td>\n",
       "      <td>Croatia</td>\n",
       "      <td>HRV</td>\n",
       "      <td>PAV</td>\n",
       "    </tr>\n",
       "    <tr>\n",
       "      <th>1</th>\n",
       "      <td>sr:competitor:51836</td>\n",
       "      <td>Arevalo-Gonzalez, Marcelo</td>\n",
       "      <td>El Salvador</td>\n",
       "      <td>SLV</td>\n",
       "      <td>ARE</td>\n",
       "    </tr>\n",
       "    <tr>\n",
       "      <th>2</th>\n",
       "      <td>sr:competitor:14898</td>\n",
       "      <td>Heliovaara, Harri</td>\n",
       "      <td>Finland</td>\n",
       "      <td>FIN</td>\n",
       "      <td>HEL</td>\n",
       "    </tr>\n",
       "    <tr>\n",
       "      <th>3</th>\n",
       "      <td>sr:competitor:637970</td>\n",
       "      <td>Patten, Henry</td>\n",
       "      <td>Great Britain</td>\n",
       "      <td>GBR</td>\n",
       "      <td>PAT</td>\n",
       "    </tr>\n",
       "    <tr>\n",
       "      <th>4</th>\n",
       "      <td>sr:competitor:87690</td>\n",
       "      <td>Thompson, Jordan</td>\n",
       "      <td>Australia</td>\n",
       "      <td>AUS</td>\n",
       "      <td>THO</td>\n",
       "    </tr>\n",
       "  </tbody>\n",
       "</table>\n",
       "</div>"
      ],
      "text/plain": [
       "          competitor_id                       name        country  \\\n",
       "0   sr:competitor:49363                Pavic, Mate        Croatia   \n",
       "1   sr:competitor:51836  Arevalo-Gonzalez, Marcelo    El Salvador   \n",
       "2   sr:competitor:14898          Heliovaara, Harri        Finland   \n",
       "3  sr:competitor:637970              Patten, Henry  Great Britain   \n",
       "4   sr:competitor:87690           Thompson, Jordan      Australia   \n",
       "\n",
       "  country_code abbreviation  \n",
       "0          HRV          PAV  \n",
       "1          SLV          ARE  \n",
       "2          FIN          HEL  \n",
       "3          GBR          PAT  \n",
       "4          AUS          THO  "
      ]
     },
     "execution_count": 87,
     "metadata": {},
     "output_type": "execute_result"
    }
   ],
   "source": [
    "df_competitors.head()"
   ]
  },
  {
   "cell_type": "markdown",
   "id": "d6aee5ce",
   "metadata": {},
   "source": [
    "Check first few rows of df_rankings:"
   ]
  },
  {
   "cell_type": "code",
   "execution_count": 88,
   "id": "39caab96",
   "metadata": {},
   "outputs": [
    {
     "data": {
      "text/html": [
       "<div>\n",
       "<style scoped>\n",
       "    .dataframe tbody tr th:only-of-type {\n",
       "        vertical-align: middle;\n",
       "    }\n",
       "\n",
       "    .dataframe tbody tr th {\n",
       "        vertical-align: top;\n",
       "    }\n",
       "\n",
       "    .dataframe thead th {\n",
       "        text-align: right;\n",
       "    }\n",
       "</style>\n",
       "<table border=\"1\" class=\"dataframe\">\n",
       "  <thead>\n",
       "    <tr style=\"text-align: right;\">\n",
       "      <th></th>\n",
       "      <th>rank</th>\n",
       "      <th>movement</th>\n",
       "      <th>points</th>\n",
       "      <th>competitions_played</th>\n",
       "      <th>competitor_id</th>\n",
       "    </tr>\n",
       "  </thead>\n",
       "  <tbody>\n",
       "    <tr>\n",
       "      <th>0</th>\n",
       "      <td>1</td>\n",
       "      <td>0</td>\n",
       "      <td>9350</td>\n",
       "      <td>22</td>\n",
       "      <td>sr:competitor:49363</td>\n",
       "    </tr>\n",
       "    <tr>\n",
       "      <th>1</th>\n",
       "      <td>1</td>\n",
       "      <td>0</td>\n",
       "      <td>9350</td>\n",
       "      <td>22</td>\n",
       "      <td>sr:competitor:51836</td>\n",
       "    </tr>\n",
       "    <tr>\n",
       "      <th>2</th>\n",
       "      <td>3</td>\n",
       "      <td>0</td>\n",
       "      <td>7590</td>\n",
       "      <td>25</td>\n",
       "      <td>sr:competitor:14898</td>\n",
       "    </tr>\n",
       "    <tr>\n",
       "      <th>3</th>\n",
       "      <td>4</td>\n",
       "      <td>0</td>\n",
       "      <td>7590</td>\n",
       "      <td>26</td>\n",
       "      <td>sr:competitor:637970</td>\n",
       "    </tr>\n",
       "    <tr>\n",
       "      <th>4</th>\n",
       "      <td>5</td>\n",
       "      <td>0</td>\n",
       "      <td>6460</td>\n",
       "      <td>20</td>\n",
       "      <td>sr:competitor:87690</td>\n",
       "    </tr>\n",
       "  </tbody>\n",
       "</table>\n",
       "</div>"
      ],
      "text/plain": [
       "   rank  movement  points  competitions_played         competitor_id\n",
       "0     1         0    9350                   22   sr:competitor:49363\n",
       "1     1         0    9350                   22   sr:competitor:51836\n",
       "2     3         0    7590                   25   sr:competitor:14898\n",
       "3     4         0    7590                   26  sr:competitor:637970\n",
       "4     5         0    6460                   20   sr:competitor:87690"
      ]
     },
     "execution_count": 88,
     "metadata": {},
     "output_type": "execute_result"
    }
   ],
   "source": [
    "df_rankings.head()"
   ]
  },
  {
   "cell_type": "markdown",
   "id": "3351625c",
   "metadata": {},
   "source": [
    "Check for null values in df_competitors:"
   ]
  },
  {
   "cell_type": "code",
   "execution_count": 90,
   "id": "24629ff7",
   "metadata": {},
   "outputs": [
    {
     "name": "stdout",
     "output_type": "stream",
     "text": [
      "competitor_id     0\n",
      "name              0\n",
      "country           0\n",
      "country_code     60\n",
      "abbreviation      0\n",
      "dtype: int64\n"
     ]
    }
   ],
   "source": [
    "print(df_competitors.isnull().sum())"
   ]
  },
  {
   "cell_type": "markdown",
   "id": "a83d61eb",
   "metadata": {},
   "source": [
    "country_code has 60 nulls which can be filled as follows using pycountry:"
   ]
  },
  {
   "cell_type": "code",
   "execution_count": 91,
   "id": "247cbf16",
   "metadata": {},
   "outputs": [],
   "source": [
    "import pycountry\n",
    "\n",
    "# Step 1: Build country name → ISO Alpha-3 code mapping\n",
    "country_to_code = {country.name: country.alpha_3 for country in pycountry.countries}\n",
    "\n",
    "# Step 2: Define a function to fetch country code\n",
    "def get_country_code(country, current_code):\n",
    "    if pd.notna(current_code):\n",
    "        return current_code  # If already filled, keep it\n",
    "    if country in country_to_code:\n",
    "        return country_to_code[country]  # Fill using country name\n",
    "    return None  # Else still None\n",
    "\n",
    "# Step 3: Apply the function to the DataFrame\n",
    "df_competitors['country_code'] = df_competitors.apply(\n",
    "    lambda row: get_country_code(row['country'], row['country_code']),\n",
    "    axis=1\n",
    ")\n"
   ]
  },
  {
   "cell_type": "markdown",
   "id": "c77780a7",
   "metadata": {},
   "source": [
    "Now check for nulls in df_competitors:"
   ]
  },
  {
   "cell_type": "code",
   "execution_count": null,
   "id": "141ffa92",
   "metadata": {},
   "outputs": [],
   "source": [
    "print(df_competitors.isnull().sum())"
   ]
  },
  {
   "cell_type": "markdown",
   "id": "35fdc3ee",
   "metadata": {},
   "source": [
    "Print country names for which the country codes are null:"
   ]
  },
  {
   "cell_type": "code",
   "execution_count": 93,
   "id": "589adb77",
   "metadata": {},
   "outputs": [
    {
     "name": "stdout",
     "output_type": "stream",
     "text": [
      "['Neutral', 'Neutral', 'Neutral', 'Neutral', 'Neutral', 'Neutral', 'Neutral', 'Neutral', 'Neutral', 'Neutral', 'Neutral', 'Neutral', 'Neutral', 'Neutral', 'Neutral', 'Neutral', 'Neutral', 'Neutral', 'Neutral', 'Neutral', 'Neutral', 'Neutral', 'Neutral', 'Neutral', 'Neutral', 'Neutral', 'Neutral', 'Neutral', 'Neutral', 'Neutral', 'Neutral', 'Neutral', 'Neutral', 'Neutral', 'Neutral', 'Neutral', 'Neutral', 'Neutral', 'Neutral', 'Neutral', 'Neutral', 'Neutral', 'Neutral', 'Neutral', 'Neutral', 'Neutral', 'Neutral', 'Neutral', 'Neutral', 'Neutral', 'Neutral', 'Neutral', 'Neutral', 'Neutral', 'Neutral', 'Neutral', 'Neutral', 'Neutral', 'Neutral', 'Neutral']\n"
     ]
    }
   ],
   "source": [
    "null_country_codes = df_competitors[df_competitors['country_code'].isnull()]\n",
    "\n",
    "# Print the country names\n",
    "print(null_country_codes['country'].tolist())"
   ]
  },
  {
   "cell_type": "markdown",
   "id": "506eae4b",
   "metadata": {},
   "source": [
    "Since all country is 'Neutral' we can fill 'NEU' for country_codes of these countries.\n",
    "Set 'NEU' manually for all Neutral countries"
   ]
  },
  {
   "cell_type": "code",
   "execution_count": 94,
   "id": "2d4453da",
   "metadata": {},
   "outputs": [],
   "source": [
    "\n",
    "df_competitors.loc[\n",
    "    (df_competitors['country'] == 'Neutral') & (df_competitors['country_code'].isnull()),\n",
    "    'country_code'\n",
    "] = 'NEU'\n"
   ]
  },
  {
   "cell_type": "code",
   "execution_count": 95,
   "id": "dff2e0c3",
   "metadata": {},
   "outputs": [
    {
     "name": "stdout",
     "output_type": "stream",
     "text": [
      "competitor_id    0\n",
      "name             0\n",
      "country          0\n",
      "country_code     0\n",
      "abbreviation     0\n",
      "dtype: int64\n"
     ]
    }
   ],
   "source": [
    "print(df_competitors.isnull().sum())"
   ]
  },
  {
   "cell_type": "markdown",
   "id": "bf5e8c3d",
   "metadata": {},
   "source": [
    "Now check for nulls in df_rankings:"
   ]
  },
  {
   "cell_type": "code",
   "execution_count": 96,
   "id": "832032d8",
   "metadata": {},
   "outputs": [
    {
     "name": "stdout",
     "output_type": "stream",
     "text": [
      "rank                   0\n",
      "movement               0\n",
      "points                 0\n",
      "competitions_played    0\n",
      "competitor_id          0\n",
      "dtype: int64\n"
     ]
    }
   ],
   "source": [
    "print(df_rankings.isnull().sum())"
   ]
  },
  {
   "cell_type": "code",
   "execution_count": 97,
   "id": "d7d7ac73",
   "metadata": {},
   "outputs": [
    {
     "data": {
      "text/html": [
       "<div>\n",
       "<style scoped>\n",
       "    .dataframe tbody tr th:only-of-type {\n",
       "        vertical-align: middle;\n",
       "    }\n",
       "\n",
       "    .dataframe tbody tr th {\n",
       "        vertical-align: top;\n",
       "    }\n",
       "\n",
       "    .dataframe thead th {\n",
       "        text-align: right;\n",
       "    }\n",
       "</style>\n",
       "<table border=\"1\" class=\"dataframe\">\n",
       "  <thead>\n",
       "    <tr style=\"text-align: right;\">\n",
       "      <th></th>\n",
       "      <th>competitor_id</th>\n",
       "      <th>name</th>\n",
       "      <th>country</th>\n",
       "      <th>country_code</th>\n",
       "      <th>abbreviation</th>\n",
       "    </tr>\n",
       "  </thead>\n",
       "  <tbody>\n",
       "    <tr>\n",
       "      <th>0</th>\n",
       "      <td>sr:competitor:49363</td>\n",
       "      <td>Pavic, Mate</td>\n",
       "      <td>Croatia</td>\n",
       "      <td>HRV</td>\n",
       "      <td>PAV</td>\n",
       "    </tr>\n",
       "    <tr>\n",
       "      <th>1</th>\n",
       "      <td>sr:competitor:51836</td>\n",
       "      <td>Arevalo-Gonzalez, Marcelo</td>\n",
       "      <td>El Salvador</td>\n",
       "      <td>SLV</td>\n",
       "      <td>ARE</td>\n",
       "    </tr>\n",
       "    <tr>\n",
       "      <th>2</th>\n",
       "      <td>sr:competitor:14898</td>\n",
       "      <td>Heliovaara, Harri</td>\n",
       "      <td>Finland</td>\n",
       "      <td>FIN</td>\n",
       "      <td>HEL</td>\n",
       "    </tr>\n",
       "    <tr>\n",
       "      <th>3</th>\n",
       "      <td>sr:competitor:637970</td>\n",
       "      <td>Patten, Henry</td>\n",
       "      <td>Great Britain</td>\n",
       "      <td>GBR</td>\n",
       "      <td>PAT</td>\n",
       "    </tr>\n",
       "    <tr>\n",
       "      <th>4</th>\n",
       "      <td>sr:competitor:87690</td>\n",
       "      <td>Thompson, Jordan</td>\n",
       "      <td>Australia</td>\n",
       "      <td>AUS</td>\n",
       "      <td>THO</td>\n",
       "    </tr>\n",
       "  </tbody>\n",
       "</table>\n",
       "</div>"
      ],
      "text/plain": [
       "          competitor_id                       name        country  \\\n",
       "0   sr:competitor:49363                Pavic, Mate        Croatia   \n",
       "1   sr:competitor:51836  Arevalo-Gonzalez, Marcelo    El Salvador   \n",
       "2   sr:competitor:14898          Heliovaara, Harri        Finland   \n",
       "3  sr:competitor:637970              Patten, Henry  Great Britain   \n",
       "4   sr:competitor:87690           Thompson, Jordan      Australia   \n",
       "\n",
       "  country_code abbreviation  \n",
       "0          HRV          PAV  \n",
       "1          SLV          ARE  \n",
       "2          FIN          HEL  \n",
       "3          GBR          PAT  \n",
       "4          AUS          THO  "
      ]
     },
     "execution_count": 97,
     "metadata": {},
     "output_type": "execute_result"
    }
   ],
   "source": [
    "df_competitors.head()"
   ]
  },
  {
   "cell_type": "markdown",
   "id": "39c1e269",
   "metadata": {},
   "source": [
    "In competitor_id we can check if all rows have the string 'sr:competitor:' in competitor_id:"
   ]
  },
  {
   "cell_type": "code",
   "execution_count": 100,
   "id": "94460b98",
   "metadata": {},
   "outputs": [
    {
     "name": "stdout",
     "output_type": "stream",
     "text": [
      "True\n"
     ]
    }
   ],
   "source": [
    "contains_in_all = df_competitors['competitor_id'].str.contains('sr:competitor:').all()\n",
    "print (contains_in_all)"
   ]
  },
  {
   "cell_type": "markdown",
   "id": "d54a57f6",
   "metadata": {},
   "source": [
    "Since all rows have the string 'sr:competitor:' we can remove it from that competitor_id:"
   ]
  },
  {
   "cell_type": "code",
   "execution_count": 101,
   "id": "57ae9ab0",
   "metadata": {},
   "outputs": [],
   "source": [
    "df_competitors['competitor_id'] = df_competitors['competitor_id'].str.replace('sr:competitor:', '', regex=False)"
   ]
  },
  {
   "cell_type": "code",
   "execution_count": 102,
   "id": "34f335b6",
   "metadata": {},
   "outputs": [
    {
     "data": {
      "text/html": [
       "<div>\n",
       "<style scoped>\n",
       "    .dataframe tbody tr th:only-of-type {\n",
       "        vertical-align: middle;\n",
       "    }\n",
       "\n",
       "    .dataframe tbody tr th {\n",
       "        vertical-align: top;\n",
       "    }\n",
       "\n",
       "    .dataframe thead th {\n",
       "        text-align: right;\n",
       "    }\n",
       "</style>\n",
       "<table border=\"1\" class=\"dataframe\">\n",
       "  <thead>\n",
       "    <tr style=\"text-align: right;\">\n",
       "      <th></th>\n",
       "      <th>competitor_id</th>\n",
       "      <th>name</th>\n",
       "      <th>country</th>\n",
       "      <th>country_code</th>\n",
       "      <th>abbreviation</th>\n",
       "    </tr>\n",
       "  </thead>\n",
       "  <tbody>\n",
       "    <tr>\n",
       "      <th>0</th>\n",
       "      <td>49363</td>\n",
       "      <td>Pavic, Mate</td>\n",
       "      <td>Croatia</td>\n",
       "      <td>HRV</td>\n",
       "      <td>PAV</td>\n",
       "    </tr>\n",
       "    <tr>\n",
       "      <th>1</th>\n",
       "      <td>51836</td>\n",
       "      <td>Arevalo-Gonzalez, Marcelo</td>\n",
       "      <td>El Salvador</td>\n",
       "      <td>SLV</td>\n",
       "      <td>ARE</td>\n",
       "    </tr>\n",
       "    <tr>\n",
       "      <th>2</th>\n",
       "      <td>14898</td>\n",
       "      <td>Heliovaara, Harri</td>\n",
       "      <td>Finland</td>\n",
       "      <td>FIN</td>\n",
       "      <td>HEL</td>\n",
       "    </tr>\n",
       "    <tr>\n",
       "      <th>3</th>\n",
       "      <td>637970</td>\n",
       "      <td>Patten, Henry</td>\n",
       "      <td>Great Britain</td>\n",
       "      <td>GBR</td>\n",
       "      <td>PAT</td>\n",
       "    </tr>\n",
       "    <tr>\n",
       "      <th>4</th>\n",
       "      <td>87690</td>\n",
       "      <td>Thompson, Jordan</td>\n",
       "      <td>Australia</td>\n",
       "      <td>AUS</td>\n",
       "      <td>THO</td>\n",
       "    </tr>\n",
       "  </tbody>\n",
       "</table>\n",
       "</div>"
      ],
      "text/plain": [
       "  competitor_id                       name        country country_code  \\\n",
       "0         49363                Pavic, Mate        Croatia          HRV   \n",
       "1         51836  Arevalo-Gonzalez, Marcelo    El Salvador          SLV   \n",
       "2         14898          Heliovaara, Harri        Finland          FIN   \n",
       "3        637970              Patten, Henry  Great Britain          GBR   \n",
       "4         87690           Thompson, Jordan      Australia          AUS   \n",
       "\n",
       "  abbreviation  \n",
       "0          PAV  \n",
       "1          ARE  \n",
       "2          HEL  \n",
       "3          PAT  \n",
       "4          THO  "
      ]
     },
     "execution_count": 102,
     "metadata": {},
     "output_type": "execute_result"
    }
   ],
   "source": [
    "df_competitors.head()"
   ]
  },
  {
   "cell_type": "markdown",
   "id": "ebe6795e",
   "metadata": {},
   "source": [
    "Get the datatypes of df_competitors:"
   ]
  },
  {
   "cell_type": "code",
   "execution_count": 104,
   "id": "8e211651",
   "metadata": {},
   "outputs": [
    {
     "data": {
      "text/plain": [
       "competitor_id    object\n",
       "name             object\n",
       "country          object\n",
       "country_code     object\n",
       "abbreviation     object\n",
       "dtype: object"
      ]
     },
     "execution_count": 104,
     "metadata": {},
     "output_type": "execute_result"
    }
   ],
   "source": [
    "df_competitors.dtypes"
   ]
  },
  {
   "cell_type": "markdown",
   "id": "50f69665",
   "metadata": {},
   "source": [
    "Create Table competitors:"
   ]
  },
  {
   "cell_type": "code",
   "execution_count": 108,
   "id": "327b37d5",
   "metadata": {},
   "outputs": [
    {
     "name": "stdout",
     "output_type": "stream",
     "text": [
      "Table 'competitors' created successfully in MySQL!\n"
     ]
    }
   ],
   "source": [
    "cursor_mysql.execute(\"USE SportsRadar_db\")  # Select database\n",
    "cursor_mysql.execute(\"\"\"\n",
    "    CREATE TABLE IF NOT EXISTS competitors (\n",
    "        competitor_id VARCHAR(50) PRIMARY KEY,\n",
    "        name VARCHAR(100) NOT NULL, \n",
    "        country VARCHAR(100) NOT NULL,\n",
    "        country_code CHAR(3) NOT NULL,\n",
    "        abbreviation VARCHAR(10) NOT NULL    \n",
    "       \n",
    "    );\n",
    "\"\"\")\n",
    "conn_mysql.commit()\n",
    "print(\"Table 'competitors' created successfully in MySQL!\")"
   ]
  },
  {
   "cell_type": "markdown",
   "id": "df0f9c0a",
   "metadata": {},
   "source": [
    "Insert values to competitors table from df_competitors:"
   ]
  },
  {
   "cell_type": "code",
   "execution_count": 107,
   "id": "31b0dca1",
   "metadata": {},
   "outputs": [
    {
     "name": "stdout",
     "output_type": "stream",
     "text": [
      "Data inserted using to_list()\n"
     ]
    }
   ],
   "source": [
    "data_list = df_competitors.values.tolist()\n",
    "query = \"\"\"\n",
    "    INSERT INTO Competitors(competitor_id, name, country, country_code, abbreviation)\n",
    "    VALUES (%s, %s, %s, %s, %s);\n",
    "\"\"\"\n",
    "cursor_mysql.executemany(query, data_list)\n",
    "conn_mysql.commit()\n",
    "print(\"Data inserted using to_list()\")\n"
   ]
  },
  {
   "cell_type": "markdown",
   "id": "08cf698c",
   "metadata": {},
   "source": [
    "Get the datatypes of df_rankings:"
   ]
  },
  {
   "cell_type": "code",
   "execution_count": 103,
   "id": "0f1ef769",
   "metadata": {},
   "outputs": [
    {
     "data": {
      "text/plain": [
       "rank                    int64\n",
       "movement                int64\n",
       "points                  int64\n",
       "competitions_played     int64\n",
       "competitor_id          object\n",
       "dtype: object"
      ]
     },
     "execution_count": 103,
     "metadata": {},
     "output_type": "execute_result"
    }
   ],
   "source": [
    "df_rankings.dtypes"
   ]
  },
  {
   "cell_type": "code",
   "execution_count": 122,
   "id": "bc68415a",
   "metadata": {},
   "outputs": [
    {
     "data": {
      "text/html": [
       "<div>\n",
       "<style scoped>\n",
       "    .dataframe tbody tr th:only-of-type {\n",
       "        vertical-align: middle;\n",
       "    }\n",
       "\n",
       "    .dataframe tbody tr th {\n",
       "        vertical-align: top;\n",
       "    }\n",
       "\n",
       "    .dataframe thead th {\n",
       "        text-align: right;\n",
       "    }\n",
       "</style>\n",
       "<table border=\"1\" class=\"dataframe\">\n",
       "  <thead>\n",
       "    <tr style=\"text-align: right;\">\n",
       "      <th></th>\n",
       "      <th>rank</th>\n",
       "      <th>movement</th>\n",
       "      <th>points</th>\n",
       "      <th>competitions_played</th>\n",
       "      <th>competitor_id</th>\n",
       "    </tr>\n",
       "  </thead>\n",
       "  <tbody>\n",
       "    <tr>\n",
       "      <th>0</th>\n",
       "      <td>1</td>\n",
       "      <td>0</td>\n",
       "      <td>9350</td>\n",
       "      <td>22</td>\n",
       "      <td>sr:competitor:49363</td>\n",
       "    </tr>\n",
       "    <tr>\n",
       "      <th>1</th>\n",
       "      <td>1</td>\n",
       "      <td>0</td>\n",
       "      <td>9350</td>\n",
       "      <td>22</td>\n",
       "      <td>sr:competitor:51836</td>\n",
       "    </tr>\n",
       "    <tr>\n",
       "      <th>2</th>\n",
       "      <td>3</td>\n",
       "      <td>0</td>\n",
       "      <td>7590</td>\n",
       "      <td>25</td>\n",
       "      <td>sr:competitor:14898</td>\n",
       "    </tr>\n",
       "    <tr>\n",
       "      <th>3</th>\n",
       "      <td>4</td>\n",
       "      <td>0</td>\n",
       "      <td>7590</td>\n",
       "      <td>26</td>\n",
       "      <td>sr:competitor:637970</td>\n",
       "    </tr>\n",
       "    <tr>\n",
       "      <th>4</th>\n",
       "      <td>5</td>\n",
       "      <td>0</td>\n",
       "      <td>6460</td>\n",
       "      <td>20</td>\n",
       "      <td>sr:competitor:87690</td>\n",
       "    </tr>\n",
       "  </tbody>\n",
       "</table>\n",
       "</div>"
      ],
      "text/plain": [
       "   rank  movement  points  competitions_played         competitor_id\n",
       "0     1         0    9350                   22   sr:competitor:49363\n",
       "1     1         0    9350                   22   sr:competitor:51836\n",
       "2     3         0    7590                   25   sr:competitor:14898\n",
       "3     4         0    7590                   26  sr:competitor:637970\n",
       "4     5         0    6460                   20   sr:competitor:87690"
      ]
     },
     "execution_count": 122,
     "metadata": {},
     "output_type": "execute_result"
    }
   ],
   "source": [
    "df_rankings.head()"
   ]
  },
  {
   "cell_type": "markdown",
   "id": "2aa97fbc",
   "metadata": {},
   "source": [
    "Check if all values in column comepetitor_id in df_rankings has the string 'sr:competitor:'"
   ]
  },
  {
   "cell_type": "code",
   "execution_count": 123,
   "id": "2b8b4ed8",
   "metadata": {},
   "outputs": [
    {
     "name": "stdout",
     "output_type": "stream",
     "text": [
      "True\n"
     ]
    }
   ],
   "source": [
    "contains_in_all = df_rankings['competitor_id'].str.contains('sr:competitor:').all()\n",
    "print (contains_in_all)"
   ]
  },
  {
   "cell_type": "markdown",
   "id": "5ca233d8",
   "metadata": {},
   "source": [
    "Replace the string 'sr:competitor:' in df_rankings :"
   ]
  },
  {
   "cell_type": "code",
   "execution_count": 124,
   "id": "29d2c92a",
   "metadata": {},
   "outputs": [],
   "source": [
    "df_rankings['competitor_id'] = df_rankings['competitor_id'].str.replace('sr:competitor:', '', regex=False)"
   ]
  },
  {
   "cell_type": "markdown",
   "id": "7d6670e7",
   "metadata": {},
   "source": [
    "Check if the string is removed:"
   ]
  },
  {
   "cell_type": "code",
   "execution_count": 125,
   "id": "816354bd",
   "metadata": {},
   "outputs": [
    {
     "data": {
      "text/html": [
       "<div>\n",
       "<style scoped>\n",
       "    .dataframe tbody tr th:only-of-type {\n",
       "        vertical-align: middle;\n",
       "    }\n",
       "\n",
       "    .dataframe tbody tr th {\n",
       "        vertical-align: top;\n",
       "    }\n",
       "\n",
       "    .dataframe thead th {\n",
       "        text-align: right;\n",
       "    }\n",
       "</style>\n",
       "<table border=\"1\" class=\"dataframe\">\n",
       "  <thead>\n",
       "    <tr style=\"text-align: right;\">\n",
       "      <th></th>\n",
       "      <th>rank</th>\n",
       "      <th>movement</th>\n",
       "      <th>points</th>\n",
       "      <th>competitions_played</th>\n",
       "      <th>competitor_id</th>\n",
       "    </tr>\n",
       "  </thead>\n",
       "  <tbody>\n",
       "    <tr>\n",
       "      <th>0</th>\n",
       "      <td>1</td>\n",
       "      <td>0</td>\n",
       "      <td>9350</td>\n",
       "      <td>22</td>\n",
       "      <td>49363</td>\n",
       "    </tr>\n",
       "    <tr>\n",
       "      <th>1</th>\n",
       "      <td>1</td>\n",
       "      <td>0</td>\n",
       "      <td>9350</td>\n",
       "      <td>22</td>\n",
       "      <td>51836</td>\n",
       "    </tr>\n",
       "    <tr>\n",
       "      <th>2</th>\n",
       "      <td>3</td>\n",
       "      <td>0</td>\n",
       "      <td>7590</td>\n",
       "      <td>25</td>\n",
       "      <td>14898</td>\n",
       "    </tr>\n",
       "    <tr>\n",
       "      <th>3</th>\n",
       "      <td>4</td>\n",
       "      <td>0</td>\n",
       "      <td>7590</td>\n",
       "      <td>26</td>\n",
       "      <td>637970</td>\n",
       "    </tr>\n",
       "    <tr>\n",
       "      <th>4</th>\n",
       "      <td>5</td>\n",
       "      <td>0</td>\n",
       "      <td>6460</td>\n",
       "      <td>20</td>\n",
       "      <td>87690</td>\n",
       "    </tr>\n",
       "  </tbody>\n",
       "</table>\n",
       "</div>"
      ],
      "text/plain": [
       "   rank  movement  points  competitions_played competitor_id\n",
       "0     1         0    9350                   22         49363\n",
       "1     1         0    9350                   22         51836\n",
       "2     3         0    7590                   25         14898\n",
       "3     4         0    7590                   26        637970\n",
       "4     5         0    6460                   20         87690"
      ]
     },
     "execution_count": 125,
     "metadata": {},
     "output_type": "execute_result"
    }
   ],
   "source": [
    "df_rankings.head()"
   ]
  },
  {
   "cell_type": "markdown",
   "id": "4d1e0773",
   "metadata": {},
   "source": [
    "Create table competitor_rankings  :"
   ]
  },
  {
   "cell_type": "code",
   "execution_count": 128,
   "id": "97c2edcd",
   "metadata": {},
   "outputs": [
    {
     "name": "stdout",
     "output_type": "stream",
     "text": [
      "Table 'competitor_rankings' created successfully in MySQL!\n"
     ]
    }
   ],
   "source": [
    "cursor_mysql.execute(\"USE SportsRadar_db\")  # Select database\n",
    "cursor_mysql.execute(\"\"\"\n",
    "        CREATE TABLE IF NOT EXISTS competitor_rankings (\n",
    "        rank_id INT AUTO_INCREMENT PRIMARY KEY,\n",
    "        ranking INT NOT NULL, \n",
    "        movement INT NOT NULL,\n",
    "        points INT NOT NULL,\n",
    "        competetions_played INT NOT NULL,\n",
    "        competitor_id VARCHAR(50),\n",
    "       FOREIGN KEY(competitor_id) REFERENCES Competitors(competitor_id)        \n",
    "    );\n",
    "\"\"\")\n",
    "conn_mysql.commit()\n",
    "print(\"Table 'competitor_rankings' created successfully in MySQL!\")"
   ]
  },
  {
   "cell_type": "markdown",
   "id": "5d3cf0b3",
   "metadata": {},
   "source": [
    "Insert data into table competitor_rankings from df_rankings :"
   ]
  },
  {
   "cell_type": "code",
   "execution_count": 129,
   "id": "34e1a946",
   "metadata": {},
   "outputs": [
    {
     "name": "stdout",
     "output_type": "stream",
     "text": [
      "Data inserted using to_list()\n"
     ]
    }
   ],
   "source": [
    "data_list = df_rankings[['rank', 'movement', 'points', 'competitions_played', 'competitor_id']].values.tolist()\n",
    "\n",
    "query = \"\"\"\n",
    "    INSERT INTO competitor_rankings(ranking, movement, points, competetions_played, competitor_id)\n",
    "    VALUES (%s, %s, %s, %s, %s);\n",
    "\"\"\"\n",
    "\n",
    "cursor_mysql.executemany(query, data_list)\n",
    "conn_mysql.commit()\n",
    "print(\"Data inserted using to_list()\")\n"
   ]
  },
  {
   "cell_type": "markdown",
   "id": "ed87961d",
   "metadata": {},
   "source": [
    " "
   ]
  }
 ],
 "metadata": {
  "kernelspec": {
   "display_name": "env",
   "language": "python",
   "name": "python3"
  },
  "language_info": {
   "codemirror_mode": {
    "name": "ipython",
    "version": 3
   },
   "file_extension": ".py",
   "mimetype": "text/x-python",
   "name": "python",
   "nbconvert_exporter": "python",
   "pygments_lexer": "ipython3",
   "version": "3.12.8"
  }
 },
 "nbformat": 4,
 "nbformat_minor": 5
}
